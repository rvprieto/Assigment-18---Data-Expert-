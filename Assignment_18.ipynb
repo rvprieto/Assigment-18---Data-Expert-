{
  "nbformat": 4,
  "nbformat_minor": 0,
  "metadata": {
    "kernelspec": {
      "language": "python",
      "display_name": "Python 3",
      "name": "python3"
    },
    "language_info": {
      "pygments_lexer": "ipython3",
      "nbconvert_exporter": "python",
      "version": "3.6.4",
      "file_extension": ".py",
      "codemirror_mode": {
        "name": "ipython",
        "version": 3
      },
      "name": "python",
      "mimetype": "text/x-python"
    },
    "colab": {
      "name": "Assignment_18.ipynb",
      "provenance": [],
      "toc_visible": true,
      "include_colab_link": true
    }
  },
  "cells": [
    {
      "cell_type": "markdown",
      "metadata": {
        "id": "view-in-github",
        "colab_type": "text"
      },
      "source": [
        "<a href=\"https://colab.research.google.com/github/rvprieto/Assigment-18---Data-Expert-/blob/main/Assignment_18.ipynb\" target=\"_parent\"><img src=\"https://colab.research.google.com/assets/colab-badge.svg\" alt=\"Open In Colab\"/></a>"
      ]
    },
    {
      "cell_type": "markdown",
      "metadata": {
        "id": "gawhWmUFKwC4"
      },
      "source": [
        "# Content\n",
        "1. Preprocessing data \n",
        "* Create dummy data (Object data type)\n",
        "* Scaling data (numberic data) by MinMaxScaler\n",
        "2. The model\n",
        "* Decision Tree\n",
        "* Random Forest\n",
        "* Support Vector Machine\n",
        "* K-Nearest Neighbor\n",
        "* Logistic Regression\n",
        "* Artificial Neural Network"
      ]
    },
    {
      "cell_type": "code",
      "metadata": {
        "_uuid": "8f2839f25d086af736a60e9eeb907d3b93b6e0e5",
        "_cell_guid": "b1076dfc-b9ad-4769-8c92-a6c4dae69d19",
        "execution": {
          "iopub.status.busy": "2021-07-28T18:07:13.484821Z",
          "iopub.execute_input": "2021-07-28T18:07:13.485188Z",
          "iopub.status.idle": "2021-07-28T18:07:13.493687Z",
          "shell.execute_reply.started": "2021-07-28T18:07:13.48515Z",
          "shell.execute_reply": "2021-07-28T18:07:13.492705Z"
        },
        "trusted": true,
        "id": "s9XTkKwzKwDD"
      },
      "source": [
        "import numpy as np\n",
        "import pandas as pd\n",
        "import matplotlib.pyplot as plt\n",
        "import seaborn as sns\n"
      ],
      "execution_count": 1,
      "outputs": []
    },
    {
      "cell_type": "code",
      "metadata": {
        "execution": {
          "iopub.status.busy": "2021-07-28T18:07:13.502392Z",
          "iopub.execute_input": "2021-07-28T18:07:13.50292Z",
          "iopub.status.idle": "2021-07-28T18:07:13.511272Z",
          "shell.execute_reply.started": "2021-07-28T18:07:13.502884Z",
          "shell.execute_reply": "2021-07-28T18:07:13.510095Z"
        },
        "trusted": true,
        "id": "dvSjJzRDKwDF"
      },
      "source": [
        "data = pd.read_csv(\"/content/heart.csv\")"
      ],
      "execution_count": 2,
      "outputs": []
    },
    {
      "cell_type": "markdown",
      "metadata": {
        "id": "9I_Y-fcmKwDG"
      },
      "source": [
        "# Preprocessing data"
      ]
    },
    {
      "cell_type": "code",
      "metadata": {
        "execution": {
          "iopub.status.busy": "2021-07-28T18:07:13.516376Z",
          "iopub.execute_input": "2021-07-28T18:07:13.516728Z",
          "iopub.status.idle": "2021-07-28T18:07:13.533334Z",
          "shell.execute_reply.started": "2021-07-28T18:07:13.516697Z",
          "shell.execute_reply": "2021-07-28T18:07:13.532215Z"
        },
        "trusted": true,
        "colab": {
          "base_uri": "https://localhost:8080/",
          "height": 224
        },
        "id": "k3Jkj4AiKwDH",
        "outputId": "16491b10-f1d9-4cd9-93f3-44cb544916cd"
      },
      "source": [
        "data.head()"
      ],
      "execution_count": 3,
      "outputs": [
        {
          "output_type": "execute_result",
          "data": {
            "text/html": [
              "<div>\n",
              "<style scoped>\n",
              "    .dataframe tbody tr th:only-of-type {\n",
              "        vertical-align: middle;\n",
              "    }\n",
              "\n",
              "    .dataframe tbody tr th {\n",
              "        vertical-align: top;\n",
              "    }\n",
              "\n",
              "    .dataframe thead th {\n",
              "        text-align: right;\n",
              "    }\n",
              "</style>\n",
              "<table border=\"1\" class=\"dataframe\">\n",
              "  <thead>\n",
              "    <tr style=\"text-align: right;\">\n",
              "      <th></th>\n",
              "      <th>age</th>\n",
              "      <th>sex</th>\n",
              "      <th>cp</th>\n",
              "      <th>trestbps</th>\n",
              "      <th>chol</th>\n",
              "      <th>fbs</th>\n",
              "      <th>restecg</th>\n",
              "      <th>thalach</th>\n",
              "      <th>exang</th>\n",
              "      <th>oldpeak</th>\n",
              "      <th>slope</th>\n",
              "      <th>ca</th>\n",
              "      <th>thal</th>\n",
              "      <th>target</th>\n",
              "    </tr>\n",
              "  </thead>\n",
              "  <tbody>\n",
              "    <tr>\n",
              "      <th>0</th>\n",
              "      <td>63</td>\n",
              "      <td>1</td>\n",
              "      <td>3</td>\n",
              "      <td>145</td>\n",
              "      <td>233</td>\n",
              "      <td>1</td>\n",
              "      <td>0</td>\n",
              "      <td>150</td>\n",
              "      <td>0</td>\n",
              "      <td>2.3</td>\n",
              "      <td>0</td>\n",
              "      <td>0</td>\n",
              "      <td>1</td>\n",
              "      <td>1</td>\n",
              "    </tr>\n",
              "    <tr>\n",
              "      <th>1</th>\n",
              "      <td>37</td>\n",
              "      <td>1</td>\n",
              "      <td>2</td>\n",
              "      <td>130</td>\n",
              "      <td>250</td>\n",
              "      <td>0</td>\n",
              "      <td>1</td>\n",
              "      <td>187</td>\n",
              "      <td>0</td>\n",
              "      <td>3.5</td>\n",
              "      <td>0</td>\n",
              "      <td>0</td>\n",
              "      <td>2</td>\n",
              "      <td>1</td>\n",
              "    </tr>\n",
              "    <tr>\n",
              "      <th>2</th>\n",
              "      <td>41</td>\n",
              "      <td>0</td>\n",
              "      <td>1</td>\n",
              "      <td>130</td>\n",
              "      <td>204</td>\n",
              "      <td>0</td>\n",
              "      <td>0</td>\n",
              "      <td>172</td>\n",
              "      <td>0</td>\n",
              "      <td>1.4</td>\n",
              "      <td>2</td>\n",
              "      <td>0</td>\n",
              "      <td>2</td>\n",
              "      <td>1</td>\n",
              "    </tr>\n",
              "    <tr>\n",
              "      <th>3</th>\n",
              "      <td>56</td>\n",
              "      <td>1</td>\n",
              "      <td>1</td>\n",
              "      <td>120</td>\n",
              "      <td>236</td>\n",
              "      <td>0</td>\n",
              "      <td>1</td>\n",
              "      <td>178</td>\n",
              "      <td>0</td>\n",
              "      <td>0.8</td>\n",
              "      <td>2</td>\n",
              "      <td>0</td>\n",
              "      <td>2</td>\n",
              "      <td>1</td>\n",
              "    </tr>\n",
              "    <tr>\n",
              "      <th>4</th>\n",
              "      <td>57</td>\n",
              "      <td>0</td>\n",
              "      <td>0</td>\n",
              "      <td>120</td>\n",
              "      <td>354</td>\n",
              "      <td>0</td>\n",
              "      <td>1</td>\n",
              "      <td>163</td>\n",
              "      <td>1</td>\n",
              "      <td>0.6</td>\n",
              "      <td>2</td>\n",
              "      <td>0</td>\n",
              "      <td>2</td>\n",
              "      <td>1</td>\n",
              "    </tr>\n",
              "  </tbody>\n",
              "</table>\n",
              "</div>"
            ],
            "text/plain": [
              "   age  sex  cp  trestbps  chol  fbs  ...  exang  oldpeak  slope  ca  thal  target\n",
              "0   63    1   3       145   233    1  ...      0      2.3      0   0     1       1\n",
              "1   37    1   2       130   250    0  ...      0      3.5      0   0     2       1\n",
              "2   41    0   1       130   204    0  ...      0      1.4      2   0     2       1\n",
              "3   56    1   1       120   236    0  ...      0      0.8      2   0     2       1\n",
              "4   57    0   0       120   354    0  ...      1      0.6      2   0     2       1\n",
              "\n",
              "[5 rows x 14 columns]"
            ]
          },
          "metadata": {},
          "execution_count": 3
        }
      ]
    },
    {
      "cell_type": "markdown",
      "metadata": {
        "id": "i7y1cax5KwDH"
      },
      "source": [
        "- **age**: The person's age in years\n",
        "- **sex**: The person's sex (1 = male, 0 = female)\n",
        "- **cp:** The chest pain experienced (Value 1: typical angina, Value 2: atypical angina, Value 3: non-anginal pain, Value 4: asymptomatic)\n",
        "- **trestbps:** The person's resting blood pressure (mm Hg on admission to the hospital)\n",
        "- **chol:** The person's cholesterol measurement in mg/dl\n",
        "- **fbs:** The person's fasting blood sugar (> 120 mg/dl, 1 = true; 0 = false) \n",
        "- **restecg:** Resting electrocardiographic measurement (0 = normal, 1 = having ST-T wave abnormality, 2 = showing probable or definite left ventricular hypertrophy by Estes' criteria)\n",
        "- **thalach:** The person's maximum heart rate achieved\n",
        "- **exang:** Exercise induced angina (1 = yes; 0 = no)\n",
        "- **oldpeak:** ST depression induced by exercise relative to rest ('ST' relates to positions on the ECG plot. See more [here](https://litfl.com/st-segment-ecg-library/))\n",
        "- **slope:** the slope of the peak exercise ST segment (Value 1: upsloping, Value 2: flat, Value 3: downsloping)\n",
        "- **ca:** The number of major vessels (0-3)\n",
        "- **thal:** A blood disorder called thalassemia (3 = normal; 6 = fixed defect; 7 = reversable defect)\n",
        "- **target:** Heart disease (0 = no, 1 = yes)"
      ]
    },
    {
      "cell_type": "code",
      "metadata": {
        "execution": {
          "iopub.status.busy": "2021-07-28T18:07:13.534907Z",
          "iopub.execute_input": "2021-07-28T18:07:13.535222Z",
          "iopub.status.idle": "2021-07-28T18:07:13.554056Z",
          "shell.execute_reply.started": "2021-07-28T18:07:13.535194Z",
          "shell.execute_reply": "2021-07-28T18:07:13.553073Z"
        },
        "trusted": true,
        "colab": {
          "base_uri": "https://localhost:8080/"
        },
        "id": "Wma5xQAgKwDI",
        "outputId": "fad00aa1-2c0f-42f0-aee4-bbdcec26d51f"
      },
      "source": [
        "data.info()"
      ],
      "execution_count": 4,
      "outputs": [
        {
          "output_type": "stream",
          "name": "stdout",
          "text": [
            "<class 'pandas.core.frame.DataFrame'>\n",
            "RangeIndex: 303 entries, 0 to 302\n",
            "Data columns (total 14 columns):\n",
            " #   Column    Non-Null Count  Dtype  \n",
            "---  ------    --------------  -----  \n",
            " 0   age       303 non-null    int64  \n",
            " 1   sex       303 non-null    int64  \n",
            " 2   cp        303 non-null    int64  \n",
            " 3   trestbps  303 non-null    int64  \n",
            " 4   chol      303 non-null    int64  \n",
            " 5   fbs       303 non-null    int64  \n",
            " 6   restecg   303 non-null    int64  \n",
            " 7   thalach   303 non-null    int64  \n",
            " 8   exang     303 non-null    int64  \n",
            " 9   oldpeak   303 non-null    float64\n",
            " 10  slope     303 non-null    int64  \n",
            " 11  ca        303 non-null    int64  \n",
            " 12  thal      303 non-null    int64  \n",
            " 13  target    303 non-null    int64  \n",
            "dtypes: float64(1), int64(13)\n",
            "memory usage: 33.3 KB\n"
          ]
        }
      ]
    },
    {
      "cell_type": "code",
      "metadata": {
        "execution": {
          "iopub.status.busy": "2021-07-28T18:07:13.555935Z",
          "iopub.execute_input": "2021-07-28T18:07:13.556271Z",
          "iopub.status.idle": "2021-07-28T18:07:14.972014Z",
          "shell.execute_reply.started": "2021-07-28T18:07:13.556233Z",
          "shell.execute_reply": "2021-07-28T18:07:14.970894Z"
        },
        "trusted": true,
        "colab": {
          "base_uri": "https://localhost:8080/",
          "height": 419
        },
        "id": "8e8f__0zKwDJ",
        "outputId": "e7a8a3b8-7591-45cb-ee14-84ff1c909c10"
      },
      "source": [
        "plt.figure(figsize=(18,10))\n",
        "sns.heatmap(data.corr(),annot=True)\n"
      ],
      "execution_count": 72,
      "outputs": [
        {
          "output_type": "execute_result",
          "data": {
            "text/plain": [
              "<matplotlib.axes._subplots.AxesSubplot at 0x7f0453881c10>"
            ]
          },
          "metadata": {},
          "execution_count": 72
        },
        {
          "output_type": "display_data",
          "data": {
            "image/png": "[encoded data removed]",
            "text/plain": [
              "<Figure size 1296x720 with 2 Axes>"
            ]
          },
          "metadata": {
            "needs_background": "light"
          }
        }
      ]
    },
    {
      "cell_type": "code",
      "metadata": {
        "execution": {
          "iopub.status.busy": "2021-07-28T18:07:14.974077Z",
          "iopub.execute_input": "2021-07-28T18:07:14.97453Z",
          "iopub.status.idle": "2021-07-28T18:07:15.097711Z",
          "shell.execute_reply.started": "2021-07-28T18:07:14.974486Z",
          "shell.execute_reply": "2021-07-28T18:07:15.096761Z"
        },
        "trusted": true,
        "colab": {
          "base_uri": "https://localhost:8080/",
          "height": 279
        },
        "id": "6DmTlf44KwDK",
        "outputId": "3a1e5110-702b-45cc-993e-2b0acf10dd5a"
      },
      "source": [
        "sns.countplot(x=\"target\", data=data, palette=\"bwr\")\n",
        "plt.show()"
      ],
      "execution_count": 6,
      "outputs": [
        {
          "output_type": "display_data",
          "data": {
            "image/png": "[encoded data removed]",
            "text/plain": [
              "<Figure size 432x288 with 1 Axes>"
            ]
          },
          "metadata": {
            "needs_background": "light"
          }
        }
      ]
    },
    {
      "cell_type": "code",
      "metadata": {
        "execution": {
          "iopub.status.busy": "2021-07-28T18:07:15.098869Z",
          "iopub.execute_input": "2021-07-28T18:07:15.099128Z",
          "iopub.status.idle": "2021-07-28T18:07:15.224381Z",
          "shell.execute_reply.started": "2021-07-28T18:07:15.099103Z",
          "shell.execute_reply": "2021-07-28T18:07:15.223437Z"
        },
        "trusted": true,
        "colab": {
          "base_uri": "https://localhost:8080/",
          "height": 279
        },
        "id": "GiMS-LQCKwDL",
        "outputId": "4f3c5257-9862-441a-ce10-e5079de23c8c"
      },
      "source": [
        "sns.countplot(x='sex', data=data, palette=\"mako_r\")\n",
        "plt.xlabel(\"Sex (0 = female, 1= male)\")\n",
        "plt.show()"
      ],
      "execution_count": 7,
      "outputs": [
        {
          "output_type": "display_data",
          "data": {
            "image/png": "[encoded data removed]",
            "text/plain": [
              "<Figure size 432x288 with 1 Axes>"
            ]
          },
          "metadata": {
            "needs_background": "light"
          }
        }
      ]
    },
    {
      "cell_type": "code",
      "metadata": {
        "execution": {
          "iopub.status.busy": "2021-07-28T18:07:15.227003Z",
          "iopub.execute_input": "2021-07-28T18:07:15.227467Z",
          "iopub.status.idle": "2021-07-28T18:07:16.044852Z",
          "shell.execute_reply.started": "2021-07-28T18:07:15.227421Z",
          "shell.execute_reply": "2021-07-28T18:07:16.043726Z"
        },
        "trusted": true,
        "colab": {
          "base_uri": "https://localhost:8080/",
          "height": 243
        },
        "id": "m6x-IwqeKwDL",
        "outputId": "4edc6053-faa9-43cd-8952-8f542fc90319"
      },
      "source": [
        "plt.figure(figsize=(20,6))\n",
        "sns.countplot(x='age', data=data, hue='target')\n",
        "plt.title('Heart Disease Frequency for Ages')\n",
        "plt.xlabel('Age')\n",
        "plt.ylabel('Frequency')\n",
        "plt.legend([\"Haven't Disease\", \"Have Disease\"])"
      ],
      "execution_count": 8,
      "outputs": [
        {
          "output_type": "execute_result",
          "data": {
            "text/plain": [
              "<matplotlib.legend.Legend at 0x7f04a95e5210>"
            ]
          },
          "metadata": {},
          "execution_count": 8
        },
        {
          "output_type": "display_data",
          "data": {
            "image/png": "[encoded data removed]",
            "text/plain": [
              "<Figure size 1440x432 with 1 Axes>"
            ]
          },
          "metadata": {
            "needs_background": "light"
          }
        }
      ]
    },
    {
      "cell_type": "code",
      "metadata": {
        "execution": {
          "iopub.status.busy": "2021-07-28T18:07:16.046668Z",
          "iopub.execute_input": "2021-07-28T18:07:16.046965Z",
          "iopub.status.idle": "2021-07-28T18:07:16.512901Z",
          "shell.execute_reply.started": "2021-07-28T18:07:16.046936Z",
          "shell.execute_reply": "2021-07-28T18:07:16.511578Z"
        },
        "trusted": true,
        "colab": {
          "base_uri": "https://localhost:8080/",
          "height": 488
        },
        "id": "r3N_OLmCKwDL",
        "outputId": "fbe8dbaa-1fd7-4db4-d368-6af29960fc01"
      },
      "source": [
        "plt.figure(figsize=(14,10))\n",
        "\n",
        "sns.countplot(x='sex', data=data, hue='target', palette='rainbow')\n",
        "plt.title('Heart Disease Frequency for Sex')\n",
        "plt.xlabel('Sex (0 = Female, 1 = Male)')\n",
        "plt.ylabel('Frequency')\n",
        "plt.legend([\"Haven't Disease\", \"Have Disease\"])"
      ],
      "execution_count": 9,
      "outputs": [
        {
          "output_type": "execute_result",
          "data": {
            "text/plain": [
              "<matplotlib.legend.Legend at 0x7f04a625dbd0>"
            ]
          },
          "metadata": {},
          "execution_count": 9
        },
        {
          "output_type": "display_data",
          "data": {
            "image/png": "[encoded data removed]",
            "text/plain": [
              "<Figure size 1008x720 with 1 Axes>"
            ]
          },
          "metadata": {
            "needs_background": "light"
          }
        }
      ]
    },
    {
      "cell_type": "code",
      "metadata": {
        "execution": {
          "iopub.status.busy": "2021-07-28T18:07:16.514529Z",
          "iopub.execute_input": "2021-07-28T18:07:16.51496Z",
          "iopub.status.idle": "2021-07-28T18:07:16.761469Z",
          "shell.execute_reply.started": "2021-07-28T18:07:16.514914Z",
          "shell.execute_reply": "2021-07-28T18:07:16.760217Z"
        },
        "trusted": true,
        "colab": {
          "base_uri": "https://localhost:8080/",
          "height": 488
        },
        "id": "LmVmB_VzKwDM",
        "outputId": "e4edf4a7-2b4b-4ca1-ef54-bd807cf0de3e"
      },
      "source": [
        "plt.figure(figsize=(14,10))\n",
        "sns.countplot(x='cp',data=data, hue='target',palette='rainbow')\n",
        "plt.title('Heart Disease Frequency According to The chest pain experienced')\n",
        "plt.xlabel('The chest pain experienced (Value 1: typical angina, Value 2: atypical angina, Value 3: non-anginal pain, Value 4: asymptomatic)')\n",
        "plt.ylabel('Frequency')\n",
        "plt.legend([\"Haven't Disease\", \"Have Disease\"])"
      ],
      "execution_count": 10,
      "outputs": [
        {
          "output_type": "execute_result",
          "data": {
            "text/plain": [
              "<matplotlib.legend.Legend at 0x7f04a621d690>"
            ]
          },
          "metadata": {},
          "execution_count": 10
        },
        {
          "output_type": "display_data",
          "data": {
            "image/png": "[encoded data removed]",
            "text/plain": [
              "<Figure size 1008x720 with 1 Axes>"
            ]
          },
          "metadata": {
            "needs_background": "light"
          }
        }
      ]
    },
    {
      "cell_type": "code",
      "metadata": {
        "execution": {
          "iopub.status.busy": "2021-07-28T18:07:16.763034Z",
          "iopub.execute_input": "2021-07-28T18:07:16.76348Z",
          "iopub.status.idle": "2021-07-28T18:07:16.950158Z",
          "shell.execute_reply.started": "2021-07-28T18:07:16.763436Z",
          "shell.execute_reply": "2021-07-28T18:07:16.949193Z"
        },
        "trusted": true,
        "colab": {
          "base_uri": "https://localhost:8080/",
          "height": 471
        },
        "id": "tiToCsMPKwDM",
        "outputId": "0e5cd772-6bfe-4c4f-fc32-7dc3b3ff5624"
      },
      "source": [
        "plt.figure(figsize=(14,10))\n",
        "sns.countplot(x='fbs',data=data, hue='target',palette='Set1')\n",
        "plt.title('Heart Disease Frequency According To FBS')\n",
        "plt.xlabel('FBS - (Fasting Blood Sugar > 120 mg/dl) (1 = true; 0 = false)')\n",
        "plt.xticks(rotation = 0)\n",
        "plt.legend([\"Haven't Disease\", \"Have Disease\"])\n",
        "plt.ylabel('Frequency')\n",
        "plt.show()"
      ],
      "execution_count": 11,
      "outputs": [
        {
          "output_type": "display_data",
          "data": {
            "image/png": "[encoded data removed]",
            "text/plain": [
              "<Figure size 1008x720 with 1 Axes>"
            ]
          },
          "metadata": {
            "needs_background": "light"
          }
        }
      ]
    },
    {
      "cell_type": "code",
      "metadata": {
        "execution": {
          "iopub.status.busy": "2021-07-28T18:07:16.951821Z",
          "iopub.execute_input": "2021-07-28T18:07:16.952212Z",
          "iopub.status.idle": "2021-07-28T18:07:17.154109Z",
          "shell.execute_reply.started": "2021-07-28T18:07:16.95217Z",
          "shell.execute_reply": "2021-07-28T18:07:17.153104Z"
        },
        "trusted": true,
        "colab": {
          "base_uri": "https://localhost:8080/",
          "height": 471
        },
        "id": "zOfA43ZpKwDM",
        "outputId": "2bcd790b-9f6e-4bcb-db22-f009962658b6"
      },
      "source": [
        "plt.figure(figsize=(14,10))\n",
        "sns.countplot(x='slope',data=data, hue='target',palette='Set1')\n",
        "plt.title('Heart Disease Frequency According To Slope')\n",
        "plt.xlabel('the slope of the peak exercise ST segment (Value 1: upsloping, Value 2: flat, Value 3: downsloping)')\n",
        "plt.xticks(rotation = 0)\n",
        "plt.legend([\"Haven't Disease\", \"Have Disease\"])\n",
        "plt.ylabel('Frequency of Disease or Not')\n",
        "plt.show()"
      ],
      "execution_count": 12,
      "outputs": [
        {
          "output_type": "display_data",
          "data": {
            "image/png": "[encoded data removed]",
            "text/plain": [
              "<Figure size 1008x720 with 1 Axes>"
            ]
          },
          "metadata": {
            "needs_background": "light"
          }
        }
      ]
    },
    {
      "cell_type": "code",
      "metadata": {
        "execution": {
          "iopub.status.busy": "2021-07-28T18:07:17.155446Z",
          "iopub.execute_input": "2021-07-28T18:07:17.15572Z",
          "iopub.status.idle": "2021-07-28T18:07:17.363502Z",
          "shell.execute_reply.started": "2021-07-28T18:07:17.155693Z",
          "shell.execute_reply": "2021-07-28T18:07:17.36242Z"
        },
        "trusted": true,
        "colab": {
          "base_uri": "https://localhost:8080/",
          "height": 451
        },
        "id": "xI2ciPEsKwDN",
        "outputId": "2be8eb1d-e59e-4f73-879c-603bb8048ace"
      },
      "source": [
        "plt.figure(figsize=(14,10))\n",
        "sns.countplot(x='restecg',data=data, hue='target',palette='rainbow')\n",
        "plt.title('Heart Disease Frequency According To Resting electrocardiographic measurement ')\n",
        "plt.xlabel(\"Resting electrocardiographic measurement (0 = normal, 1 = having ST-T wave abnormality, 2 = showing probable or definite left ventricular hypertrophy by Estes' criteria)\")\n",
        "plt.xticks(rotation = 0)\n",
        "plt.legend([\"Haven't Disease\", \"Have Disease\"])\n",
        "plt.ylabel('Frequency of Disease or Not')\n",
        "plt.show()"
      ],
      "execution_count": 13,
      "outputs": [
        {
          "output_type": "display_data",
          "data": {
            "image/png": "[encoded data removed]",
            "text/plain": [
              "<Figure size 1008x720 with 1 Axes>"
            ]
          },
          "metadata": {
            "needs_background": "light"
          }
        }
      ]
    },
    {
      "cell_type": "code",
      "metadata": {
        "execution": {
          "iopub.status.busy": "2021-07-28T18:07:17.364759Z",
          "iopub.execute_input": "2021-07-28T18:07:17.365068Z",
          "iopub.status.idle": "2021-07-28T18:07:17.551193Z",
          "shell.execute_reply.started": "2021-07-28T18:07:17.365041Z",
          "shell.execute_reply": "2021-07-28T18:07:17.550475Z"
        },
        "trusted": true,
        "colab": {
          "base_uri": "https://localhost:8080/",
          "height": 471
        },
        "id": "vbA-reXxKwDN",
        "outputId": "74852ea1-6220-43e7-a2d2-03710e9e0ca8"
      },
      "source": [
        "plt.figure(figsize=(14,10))\n",
        "sns.countplot(x='exang',data=data, hue='target',palette='bwr')\n",
        "plt.title('Heart Disease Frequency According To Exercise induced angina')\n",
        "plt.xlabel(\"Exercise induced angina (1 = yes; 0 = no)\")\n",
        "plt.xticks(rotation = 0)\n",
        "plt.legend([\"Haven't Disease\", \"Have Disease\"])\n",
        "plt.ylabel('Frequency of Disease or Not')\n",
        "plt.show()"
      ],
      "execution_count": 14,
      "outputs": [
        {
          "output_type": "display_data",
          "data": {
            "image/png": "[encoded data removed]",
            "text/plain": [
              "<Figure size 1008x720 with 1 Axes>"
            ]
          },
          "metadata": {
            "needs_background": "light"
          }
        }
      ]
    },
    {
      "cell_type": "markdown",
      "metadata": {
        "id": "dViY4llgKwDN"
      },
      "source": [
        "**Create dummy data**"
      ]
    },
    {
      "cell_type": "code",
      "metadata": {
        "execution": {
          "iopub.status.busy": "2021-07-28T18:07:17.55218Z",
          "iopub.execute_input": "2021-07-28T18:07:17.552492Z",
          "iopub.status.idle": "2021-07-28T18:07:17.565904Z",
          "shell.execute_reply.started": "2021-07-28T18:07:17.552462Z",
          "shell.execute_reply": "2021-07-28T18:07:17.564887Z"
        },
        "trusted": true,
        "id": "EWzL5yglKwDO"
      },
      "source": [
        "df_cp=pd.get_dummies(data['cp'], prefix = \"cp\", drop_first=True)\n",
        "df_thal=pd.get_dummies(data['thal'], prefix = \"thal\", drop_first=True)\n",
        "df_slope=pd.get_dummies(data['slope'], prefix = \"slope\", drop_first=True)\n",
        "df_sex=pd.get_dummies(data['sex'], prefix = \"sex\", drop_first=True)\n",
        "df_fbs=pd.get_dummies(data['fbs'], prefix = \"fbs\", drop_first=True)\n",
        "df_restecg=pd.get_dummies(data['restecg'], prefix = \"restecg\", drop_first=True)\n",
        "df_exang=pd.get_dummies(data['exang'], prefix = \"exang\", drop_first=True)\n"
      ],
      "execution_count": 15,
      "outputs": []
    },
    {
      "cell_type": "code",
      "metadata": {
        "execution": {
          "iopub.status.busy": "2021-07-28T18:07:17.569247Z",
          "iopub.execute_input": "2021-07-28T18:07:17.569595Z",
          "iopub.status.idle": "2021-07-28T18:07:17.584227Z",
          "shell.execute_reply.started": "2021-07-28T18:07:17.569565Z",
          "shell.execute_reply": "2021-07-28T18:07:17.582891Z"
        },
        "trusted": true,
        "id": "Yc_spZ9bKwDO"
      },
      "source": [
        "df_num=data.drop(['cp','thal','slope','sex','fbs','restecg','exang'], axis=1)"
      ],
      "execution_count": 16,
      "outputs": []
    },
    {
      "cell_type": "code",
      "metadata": {
        "execution": {
          "iopub.status.busy": "2021-07-28T18:07:17.586783Z",
          "iopub.execute_input": "2021-07-28T18:07:17.58724Z",
          "iopub.status.idle": "2021-07-28T18:07:17.611684Z",
          "shell.execute_reply.started": "2021-07-28T18:07:17.587202Z",
          "shell.execute_reply": "2021-07-28T18:07:17.610137Z"
        },
        "trusted": true,
        "colab": {
          "base_uri": "https://localhost:8080/"
        },
        "id": "xhWIa4CoKwDO",
        "outputId": "d9195391-9060-48db-ce64-236ccbd2e8fe"
      },
      "source": [
        "frames = [df_num,df_cp, df_thal, df_slope, df_sex,df_fbs,df_restecg,df_exang]\n",
        "df= pd.concat(frames, axis = 1)\n",
        "df.info()"
      ],
      "execution_count": 17,
      "outputs": [
        {
          "output_type": "stream",
          "name": "stdout",
          "text": [
            "<class 'pandas.core.frame.DataFrame'>\n",
            "RangeIndex: 303 entries, 0 to 302\n",
            "Data columns (total 20 columns):\n",
            " #   Column     Non-Null Count  Dtype  \n",
            "---  ------     --------------  -----  \n",
            " 0   age        303 non-null    int64  \n",
            " 1   trestbps   303 non-null    int64  \n",
            " 2   chol       303 non-null    int64  \n",
            " 3   thalach    303 non-null    int64  \n",
            " 4   oldpeak    303 non-null    float64\n",
            " 5   ca         303 non-null    int64  \n",
            " 6   target     303 non-null    int64  \n",
            " 7   cp_1       303 non-null    uint8  \n",
            " 8   cp_2       303 non-null    uint8  \n",
            " 9   cp_3       303 non-null    uint8  \n",
            " 10  thal_1     303 non-null    uint8  \n",
            " 11  thal_2     303 non-null    uint8  \n",
            " 12  thal_3     303 non-null    uint8  \n",
            " 13  slope_1    303 non-null    uint8  \n",
            " 14  slope_2    303 non-null    uint8  \n",
            " 15  sex_1      303 non-null    uint8  \n",
            " 16  fbs_1      303 non-null    uint8  \n",
            " 17  restecg_1  303 non-null    uint8  \n",
            " 18  restecg_2  303 non-null    uint8  \n",
            " 19  exang_1    303 non-null    uint8  \n",
            "dtypes: float64(1), int64(6), uint8(13)\n",
            "memory usage: 20.5 KB\n"
          ]
        }
      ]
    },
    {
      "cell_type": "markdown",
      "metadata": {
        "id": "ZGO24IWHKwDO"
      },
      "source": [
        "**Scaling data using MinMaxScaler**"
      ]
    },
    {
      "cell_type": "code",
      "metadata": {
        "execution": {
          "iopub.status.busy": "2021-07-28T18:07:17.613173Z",
          "iopub.execute_input": "2021-07-28T18:07:17.61362Z",
          "iopub.status.idle": "2021-07-28T18:07:17.625257Z",
          "shell.execute_reply.started": "2021-07-28T18:07:17.613577Z",
          "shell.execute_reply": "2021-07-28T18:07:17.624306Z"
        },
        "trusted": true,
        "id": "IIqsiOaXKwDP"
      },
      "source": [
        "from sklearn.preprocessing import MinMaxScaler\n",
        "scale=MinMaxScaler()\n",
        "df[['age','trestbps','chol','thalach','oldpeak','ca']]= pd.DataFrame(scale.fit_transform(df[['age','trestbps','chol','thalach','oldpeak','ca']].values), columns=['age','trestbps','chol','thalach','oldpeak','ca'], index=df.index)"
      ],
      "execution_count": 18,
      "outputs": []
    },
    {
      "cell_type": "code",
      "metadata": {
        "execution": {
          "iopub.status.busy": "2021-07-28T18:07:17.62671Z",
          "iopub.execute_input": "2021-07-28T18:07:17.627026Z",
          "iopub.status.idle": "2021-07-28T18:07:17.662968Z",
          "shell.execute_reply.started": "2021-07-28T18:07:17.626997Z",
          "shell.execute_reply": "2021-07-28T18:07:17.661959Z"
        },
        "trusted": true,
        "colab": {
          "base_uri": "https://localhost:8080/",
          "height": 439
        },
        "id": "SK1XJiFdKwDP",
        "outputId": "c7b411d7-f051-4db0-bc98-8578eb136a78"
      },
      "source": [
        "df"
      ],
      "execution_count": 19,
      "outputs": [
        {
          "output_type": "execute_result",
          "data": {
            "text/html": [
              "<div>\n",
              "<style scoped>\n",
              "    .dataframe tbody tr th:only-of-type {\n",
              "        vertical-align: middle;\n",
              "    }\n",
              "\n",
              "    .dataframe tbody tr th {\n",
              "        vertical-align: top;\n",
              "    }\n",
              "\n",
              "    .dataframe thead th {\n",
              "        text-align: right;\n",
              "    }\n",
              "</style>\n",
              "<table border=\"1\" class=\"dataframe\">\n",
              "  <thead>\n",
              "    <tr style=\"text-align: right;\">\n",
              "      <th></th>\n",
              "      <th>age</th>\n",
              "      <th>trestbps</th>\n",
              "      <th>chol</th>\n",
              "      <th>thalach</th>\n",
              "      <th>oldpeak</th>\n",
              "      <th>ca</th>\n",
              "      <th>target</th>\n",
              "      <th>cp_1</th>\n",
              "      <th>cp_2</th>\n",
              "      <th>cp_3</th>\n",
              "      <th>thal_1</th>\n",
              "      <th>thal_2</th>\n",
              "      <th>thal_3</th>\n",
              "      <th>slope_1</th>\n",
              "      <th>slope_2</th>\n",
              "      <th>sex_1</th>\n",
              "      <th>fbs_1</th>\n",
              "      <th>restecg_1</th>\n",
              "      <th>restecg_2</th>\n",
              "      <th>exang_1</th>\n",
              "    </tr>\n",
              "  </thead>\n",
              "  <tbody>\n",
              "    <tr>\n",
              "      <th>0</th>\n",
              "      <td>0.708333</td>\n",
              "      <td>0.481132</td>\n",
              "      <td>0.244292</td>\n",
              "      <td>0.603053</td>\n",
              "      <td>0.370968</td>\n",
              "      <td>0.00</td>\n",
              "      <td>1</td>\n",
              "      <td>0</td>\n",
              "      <td>0</td>\n",
              "      <td>1</td>\n",
              "      <td>1</td>\n",
              "      <td>0</td>\n",
              "      <td>0</td>\n",
              "      <td>0</td>\n",
              "      <td>0</td>\n",
              "      <td>1</td>\n",
              "      <td>1</td>\n",
              "      <td>0</td>\n",
              "      <td>0</td>\n",
              "      <td>0</td>\n",
              "    </tr>\n",
              "    <tr>\n",
              "      <th>1</th>\n",
              "      <td>0.166667</td>\n",
              "      <td>0.339623</td>\n",
              "      <td>0.283105</td>\n",
              "      <td>0.885496</td>\n",
              "      <td>0.564516</td>\n",
              "      <td>0.00</td>\n",
              "      <td>1</td>\n",
              "      <td>0</td>\n",
              "      <td>1</td>\n",
              "      <td>0</td>\n",
              "      <td>0</td>\n",
              "      <td>1</td>\n",
              "      <td>0</td>\n",
              "      <td>0</td>\n",
              "      <td>0</td>\n",
              "      <td>1</td>\n",
              "      <td>0</td>\n",
              "      <td>1</td>\n",
              "      <td>0</td>\n",
              "      <td>0</td>\n",
              "    </tr>\n",
              "    <tr>\n",
              "      <th>2</th>\n",
              "      <td>0.250000</td>\n",
              "      <td>0.339623</td>\n",
              "      <td>0.178082</td>\n",
              "      <td>0.770992</td>\n",
              "      <td>0.225806</td>\n",
              "      <td>0.00</td>\n",
              "      <td>1</td>\n",
              "      <td>1</td>\n",
              "      <td>0</td>\n",
              "      <td>0</td>\n",
              "      <td>0</td>\n",
              "      <td>1</td>\n",
              "      <td>0</td>\n",
              "      <td>0</td>\n",
              "      <td>1</td>\n",
              "      <td>0</td>\n",
              "      <td>0</td>\n",
              "      <td>0</td>\n",
              "      <td>0</td>\n",
              "      <td>0</td>\n",
              "    </tr>\n",
              "    <tr>\n",
              "      <th>3</th>\n",
              "      <td>0.562500</td>\n",
              "      <td>0.245283</td>\n",
              "      <td>0.251142</td>\n",
              "      <td>0.816794</td>\n",
              "      <td>0.129032</td>\n",
              "      <td>0.00</td>\n",
              "      <td>1</td>\n",
              "      <td>1</td>\n",
              "      <td>0</td>\n",
              "      <td>0</td>\n",
              "      <td>0</td>\n",
              "      <td>1</td>\n",
              "      <td>0</td>\n",
              "      <td>0</td>\n",
              "      <td>1</td>\n",
              "      <td>1</td>\n",
              "      <td>0</td>\n",
              "      <td>1</td>\n",
              "      <td>0</td>\n",
              "      <td>0</td>\n",
              "    </tr>\n",
              "    <tr>\n",
              "      <th>4</th>\n",
              "      <td>0.583333</td>\n",
              "      <td>0.245283</td>\n",
              "      <td>0.520548</td>\n",
              "      <td>0.702290</td>\n",
              "      <td>0.096774</td>\n",
              "      <td>0.00</td>\n",
              "      <td>1</td>\n",
              "      <td>0</td>\n",
              "      <td>0</td>\n",
              "      <td>0</td>\n",
              "      <td>0</td>\n",
              "      <td>1</td>\n",
              "      <td>0</td>\n",
              "      <td>0</td>\n",
              "      <td>1</td>\n",
              "      <td>0</td>\n",
              "      <td>0</td>\n",
              "      <td>1</td>\n",
              "      <td>0</td>\n",
              "      <td>1</td>\n",
              "    </tr>\n",
              "    <tr>\n",
              "      <th>...</th>\n",
              "      <td>...</td>\n",
              "      <td>...</td>\n",
              "      <td>...</td>\n",
              "      <td>...</td>\n",
              "      <td>...</td>\n",
              "      <td>...</td>\n",
              "      <td>...</td>\n",
              "      <td>...</td>\n",
              "      <td>...</td>\n",
              "      <td>...</td>\n",
              "      <td>...</td>\n",
              "      <td>...</td>\n",
              "      <td>...</td>\n",
              "      <td>...</td>\n",
              "      <td>...</td>\n",
              "      <td>...</td>\n",
              "      <td>...</td>\n",
              "      <td>...</td>\n",
              "      <td>...</td>\n",
              "      <td>...</td>\n",
              "    </tr>\n",
              "    <tr>\n",
              "      <th>298</th>\n",
              "      <td>0.583333</td>\n",
              "      <td>0.433962</td>\n",
              "      <td>0.262557</td>\n",
              "      <td>0.396947</td>\n",
              "      <td>0.032258</td>\n",
              "      <td>0.00</td>\n",
              "      <td>0</td>\n",
              "      <td>0</td>\n",
              "      <td>0</td>\n",
              "      <td>0</td>\n",
              "      <td>0</td>\n",
              "      <td>0</td>\n",
              "      <td>1</td>\n",
              "      <td>1</td>\n",
              "      <td>0</td>\n",
              "      <td>0</td>\n",
              "      <td>0</td>\n",
              "      <td>1</td>\n",
              "      <td>0</td>\n",
              "      <td>1</td>\n",
              "    </tr>\n",
              "    <tr>\n",
              "      <th>299</th>\n",
              "      <td>0.333333</td>\n",
              "      <td>0.150943</td>\n",
              "      <td>0.315068</td>\n",
              "      <td>0.465649</td>\n",
              "      <td>0.193548</td>\n",
              "      <td>0.00</td>\n",
              "      <td>0</td>\n",
              "      <td>0</td>\n",
              "      <td>0</td>\n",
              "      <td>1</td>\n",
              "      <td>0</td>\n",
              "      <td>0</td>\n",
              "      <td>1</td>\n",
              "      <td>1</td>\n",
              "      <td>0</td>\n",
              "      <td>1</td>\n",
              "      <td>0</td>\n",
              "      <td>1</td>\n",
              "      <td>0</td>\n",
              "      <td>0</td>\n",
              "    </tr>\n",
              "    <tr>\n",
              "      <th>300</th>\n",
              "      <td>0.812500</td>\n",
              "      <td>0.471698</td>\n",
              "      <td>0.152968</td>\n",
              "      <td>0.534351</td>\n",
              "      <td>0.548387</td>\n",
              "      <td>0.50</td>\n",
              "      <td>0</td>\n",
              "      <td>0</td>\n",
              "      <td>0</td>\n",
              "      <td>0</td>\n",
              "      <td>0</td>\n",
              "      <td>0</td>\n",
              "      <td>1</td>\n",
              "      <td>1</td>\n",
              "      <td>0</td>\n",
              "      <td>1</td>\n",
              "      <td>1</td>\n",
              "      <td>1</td>\n",
              "      <td>0</td>\n",
              "      <td>0</td>\n",
              "    </tr>\n",
              "    <tr>\n",
              "      <th>301</th>\n",
              "      <td>0.583333</td>\n",
              "      <td>0.339623</td>\n",
              "      <td>0.011416</td>\n",
              "      <td>0.335878</td>\n",
              "      <td>0.193548</td>\n",
              "      <td>0.25</td>\n",
              "      <td>0</td>\n",
              "      <td>0</td>\n",
              "      <td>0</td>\n",
              "      <td>0</td>\n",
              "      <td>0</td>\n",
              "      <td>0</td>\n",
              "      <td>1</td>\n",
              "      <td>1</td>\n",
              "      <td>0</td>\n",
              "      <td>1</td>\n",
              "      <td>0</td>\n",
              "      <td>1</td>\n",
              "      <td>0</td>\n",
              "      <td>1</td>\n",
              "    </tr>\n",
              "    <tr>\n",
              "      <th>302</th>\n",
              "      <td>0.583333</td>\n",
              "      <td>0.339623</td>\n",
              "      <td>0.251142</td>\n",
              "      <td>0.786260</td>\n",
              "      <td>0.000000</td>\n",
              "      <td>0.25</td>\n",
              "      <td>0</td>\n",
              "      <td>1</td>\n",
              "      <td>0</td>\n",
              "      <td>0</td>\n",
              "      <td>0</td>\n",
              "      <td>1</td>\n",
              "      <td>0</td>\n",
              "      <td>1</td>\n",
              "      <td>0</td>\n",
              "      <td>0</td>\n",
              "      <td>0</td>\n",
              "      <td>0</td>\n",
              "      <td>0</td>\n",
              "      <td>0</td>\n",
              "    </tr>\n",
              "  </tbody>\n",
              "</table>\n",
              "<p>303 rows × 20 columns</p>\n",
              "</div>"
            ],
            "text/plain": [
              "          age  trestbps      chol  ...  restecg_1  restecg_2  exang_1\n",
              "0    0.708333  0.481132  0.244292  ...          0          0        0\n",
              "1    0.166667  0.339623  0.283105  ...          1          0        0\n",
              "2    0.250000  0.339623  0.178082  ...          0          0        0\n",
              "3    0.562500  0.245283  0.251142  ...          1          0        0\n",
              "4    0.583333  0.245283  0.520548  ...          1          0        1\n",
              "..        ...       ...       ...  ...        ...        ...      ...\n",
              "298  0.583333  0.433962  0.262557  ...          1          0        1\n",
              "299  0.333333  0.150943  0.315068  ...          1          0        0\n",
              "300  0.812500  0.471698  0.152968  ...          1          0        0\n",
              "301  0.583333  0.339623  0.011416  ...          1          0        1\n",
              "302  0.583333  0.339623  0.251142  ...          0          0        0\n",
              "\n",
              "[303 rows x 20 columns]"
            ]
          },
          "metadata": {},
          "execution_count": 19
        }
      ]
    },
    {
      "cell_type": "markdown",
      "metadata": {
        "id": "BBiEDiz7KwDP"
      },
      "source": [
        "# The model"
      ]
    },
    {
      "cell_type": "code",
      "metadata": {
        "execution": {
          "iopub.status.busy": "2021-07-28T18:07:17.664289Z",
          "iopub.execute_input": "2021-07-28T18:07:17.664628Z",
          "iopub.status.idle": "2021-07-28T18:07:17.668627Z",
          "shell.execute_reply.started": "2021-07-28T18:07:17.664596Z",
          "shell.execute_reply": "2021-07-28T18:07:17.667649Z"
        },
        "trusted": true,
        "id": "g45KZvyZKwDP"
      },
      "source": [
        "from sklearn.model_selection import train_test_split\n",
        "from sklearn.model_selection import cross_val_score"
      ],
      "execution_count": 20,
      "outputs": []
    },
    {
      "cell_type": "code",
      "metadata": {
        "execution": {
          "iopub.status.busy": "2021-07-28T19:22:40.486409Z",
          "iopub.execute_input": "2021-07-28T19:22:40.486842Z",
          "iopub.status.idle": "2021-07-28T19:22:40.495775Z",
          "shell.execute_reply.started": "2021-07-28T19:22:40.486804Z",
          "shell.execute_reply": "2021-07-28T19:22:40.494461Z"
        },
        "trusted": true,
        "id": "lvbz8IvVKwDP"
      },
      "source": [
        "X_train, X_test, y_train, y_test = train_test_split(df.drop('target', 1), df['target'], test_size = 0.33, random_state=10) #split the data"
      ],
      "execution_count": 21,
      "outputs": []
    },
    {
      "cell_type": "code",
      "metadata": {
        "colab": {
          "base_uri": "https://localhost:8080/",
          "height": 224
        },
        "id": "2kaEa6V-aTv1",
        "outputId": "003135ad-4301-4282-f603-273ee4528b3a"
      },
      "source": [
        "X_train.head()"
      ],
      "execution_count": 22,
      "outputs": [
        {
          "output_type": "execute_result",
          "data": {
            "text/html": [
              "<div>\n",
              "<style scoped>\n",
              "    .dataframe tbody tr th:only-of-type {\n",
              "        vertical-align: middle;\n",
              "    }\n",
              "\n",
              "    .dataframe tbody tr th {\n",
              "        vertical-align: top;\n",
              "    }\n",
              "\n",
              "    .dataframe thead th {\n",
              "        text-align: right;\n",
              "    }\n",
              "</style>\n",
              "<table border=\"1\" class=\"dataframe\">\n",
              "  <thead>\n",
              "    <tr style=\"text-align: right;\">\n",
              "      <th></th>\n",
              "      <th>age</th>\n",
              "      <th>trestbps</th>\n",
              "      <th>chol</th>\n",
              "      <th>thalach</th>\n",
              "      <th>oldpeak</th>\n",
              "      <th>ca</th>\n",
              "      <th>cp_1</th>\n",
              "      <th>cp_2</th>\n",
              "      <th>cp_3</th>\n",
              "      <th>thal_1</th>\n",
              "      <th>thal_2</th>\n",
              "      <th>thal_3</th>\n",
              "      <th>slope_1</th>\n",
              "      <th>slope_2</th>\n",
              "      <th>sex_1</th>\n",
              "      <th>fbs_1</th>\n",
              "      <th>restecg_1</th>\n",
              "      <th>restecg_2</th>\n",
              "      <th>exang_1</th>\n",
              "    </tr>\n",
              "  </thead>\n",
              "  <tbody>\n",
              "    <tr>\n",
              "      <th>20</th>\n",
              "      <td>0.625000</td>\n",
              "      <td>0.386792</td>\n",
              "      <td>0.246575</td>\n",
              "      <td>0.687023</td>\n",
              "      <td>0.080645</td>\n",
              "      <td>0.00</td>\n",
              "      <td>0</td>\n",
              "      <td>0</td>\n",
              "      <td>0</td>\n",
              "      <td>0</td>\n",
              "      <td>0</td>\n",
              "      <td>1</td>\n",
              "      <td>1</td>\n",
              "      <td>0</td>\n",
              "      <td>1</td>\n",
              "      <td>0</td>\n",
              "      <td>1</td>\n",
              "      <td>0</td>\n",
              "      <td>0</td>\n",
              "    </tr>\n",
              "    <tr>\n",
              "      <th>38</th>\n",
              "      <td>0.750000</td>\n",
              "      <td>0.575472</td>\n",
              "      <td>0.326484</td>\n",
              "      <td>0.587786</td>\n",
              "      <td>0.129032</td>\n",
              "      <td>0.00</td>\n",
              "      <td>0</td>\n",
              "      <td>1</td>\n",
              "      <td>0</td>\n",
              "      <td>0</td>\n",
              "      <td>1</td>\n",
              "      <td>0</td>\n",
              "      <td>0</td>\n",
              "      <td>1</td>\n",
              "      <td>0</td>\n",
              "      <td>0</td>\n",
              "      <td>1</td>\n",
              "      <td>0</td>\n",
              "      <td>0</td>\n",
              "    </tr>\n",
              "    <tr>\n",
              "      <th>167</th>\n",
              "      <td>0.687500</td>\n",
              "      <td>0.433962</td>\n",
              "      <td>0.324201</td>\n",
              "      <td>0.679389</td>\n",
              "      <td>0.580645</td>\n",
              "      <td>0.50</td>\n",
              "      <td>0</td>\n",
              "      <td>0</td>\n",
              "      <td>0</td>\n",
              "      <td>0</td>\n",
              "      <td>1</td>\n",
              "      <td>0</td>\n",
              "      <td>0</td>\n",
              "      <td>0</td>\n",
              "      <td>0</td>\n",
              "      <td>0</td>\n",
              "      <td>0</td>\n",
              "      <td>0</td>\n",
              "      <td>0</td>\n",
              "    </tr>\n",
              "    <tr>\n",
              "      <th>100</th>\n",
              "      <td>0.270833</td>\n",
              "      <td>0.509434</td>\n",
              "      <td>0.269406</td>\n",
              "      <td>0.816794</td>\n",
              "      <td>0.129032</td>\n",
              "      <td>0.50</td>\n",
              "      <td>0</td>\n",
              "      <td>0</td>\n",
              "      <td>1</td>\n",
              "      <td>0</td>\n",
              "      <td>1</td>\n",
              "      <td>0</td>\n",
              "      <td>0</td>\n",
              "      <td>1</td>\n",
              "      <td>1</td>\n",
              "      <td>0</td>\n",
              "      <td>0</td>\n",
              "      <td>0</td>\n",
              "      <td>0</td>\n",
              "    </tr>\n",
              "    <tr>\n",
              "      <th>111</th>\n",
              "      <td>0.583333</td>\n",
              "      <td>0.528302</td>\n",
              "      <td>0.000000</td>\n",
              "      <td>0.778626</td>\n",
              "      <td>0.032258</td>\n",
              "      <td>0.25</td>\n",
              "      <td>0</td>\n",
              "      <td>1</td>\n",
              "      <td>0</td>\n",
              "      <td>0</td>\n",
              "      <td>0</td>\n",
              "      <td>1</td>\n",
              "      <td>0</td>\n",
              "      <td>1</td>\n",
              "      <td>1</td>\n",
              "      <td>1</td>\n",
              "      <td>1</td>\n",
              "      <td>0</td>\n",
              "      <td>0</td>\n",
              "    </tr>\n",
              "  </tbody>\n",
              "</table>\n",
              "</div>"
            ],
            "text/plain": [
              "          age  trestbps      chol  ...  restecg_1  restecg_2  exang_1\n",
              "20   0.625000  0.386792  0.246575  ...          1          0        0\n",
              "38   0.750000  0.575472  0.326484  ...          1          0        0\n",
              "167  0.687500  0.433962  0.324201  ...          0          0        0\n",
              "100  0.270833  0.509434  0.269406  ...          0          0        0\n",
              "111  0.583333  0.528302  0.000000  ...          1          0        0\n",
              "\n",
              "[5 rows x 19 columns]"
            ]
          },
          "metadata": {},
          "execution_count": 22
        }
      ]
    },
    {
      "cell_type": "markdown",
      "metadata": {
        "id": "y4xIel_TYRgl"
      },
      "source": [
        "**PCA**"
      ]
    },
    {
      "cell_type": "code",
      "metadata": {
        "colab": {
          "base_uri": "https://localhost:8080/",
          "height": 282
        },
        "id": "ewu6rKNTcoiG",
        "outputId": "0f499064-084c-444c-c8ce-6eb0c8bc66d7"
      },
      "source": [
        "from sklearn.decomposition import PCA\n",
        "pca = PCA(n_components=2)\n",
        "pca.fit(X_train)\n",
        "r2 = pca.transform(X_train)\n",
        "\n",
        "\n",
        "plt.scatter(r2[:,0], r2[:,1])"
      ],
      "execution_count": 23,
      "outputs": [
        {
          "output_type": "execute_result",
          "data": {
            "text/plain": [
              "<matplotlib.collections.PathCollection at 0x7f04a09cba50>"
            ]
          },
          "metadata": {},
          "execution_count": 23
        },
        {
          "output_type": "display_data",
          "data": {
            "image/png": "[encoded data removed]",
            "text/plain": [
              "<Figure size 432x288 with 1 Axes>"
            ]
          },
          "metadata": {
            "needs_background": "light"
          }
        }
      ]
    },
    {
      "cell_type": "markdown",
      "metadata": {
        "id": "pSiaPOmOKwDP"
      },
      "source": [
        "**1. Decision Tree**"
      ]
    },
    {
      "cell_type": "code",
      "metadata": {
        "execution": {
          "iopub.status.busy": "2021-07-28T18:07:17.688976Z",
          "iopub.execute_input": "2021-07-28T18:07:17.689575Z",
          "iopub.status.idle": "2021-07-28T18:07:17.702419Z",
          "shell.execute_reply.started": "2021-07-28T18:07:17.68953Z",
          "shell.execute_reply": "2021-07-28T18:07:17.701476Z"
        },
        "trusted": true,
        "id": "TssV-5trKwDQ"
      },
      "source": [
        "from sklearn.tree import DecisionTreeClassifier"
      ],
      "execution_count": 24,
      "outputs": []
    },
    {
      "cell_type": "code",
      "metadata": {
        "execution": {
          "iopub.status.busy": "2021-07-28T18:07:17.703767Z",
          "iopub.execute_input": "2021-07-28T18:07:17.704164Z",
          "iopub.status.idle": "2021-07-28T18:07:17.720391Z",
          "shell.execute_reply.started": "2021-07-28T18:07:17.704122Z",
          "shell.execute_reply": "2021-07-28T18:07:17.719313Z"
        },
        "trusted": true,
        "colab": {
          "base_uri": "https://localhost:8080/"
        },
        "id": "Mc44Tu2fKwDQ",
        "outputId": "8b2ceef4-2a10-45bc-dd96-a6f32b938fb1"
      },
      "source": [
        "dtree = DecisionTreeClassifier()\n",
        "dtree.fit(X_train,y_train)"
      ],
      "execution_count": 25,
      "outputs": [
        {
          "output_type": "execute_result",
          "data": {
            "text/plain": [
              "DecisionTreeClassifier(ccp_alpha=0.0, class_weight=None, criterion='gini',\n",
              "                       max_depth=None, max_features=None, max_leaf_nodes=None,\n",
              "                       min_impurity_decrease=0.0, min_impurity_split=None,\n",
              "                       min_samples_leaf=1, min_samples_split=2,\n",
              "                       min_weight_fraction_leaf=0.0, presort='deprecated',\n",
              "                       random_state=None, splitter='best')"
            ]
          },
          "metadata": {},
          "execution_count": 25
        }
      ]
    },
    {
      "cell_type": "code",
      "metadata": {
        "execution": {
          "iopub.status.busy": "2021-07-28T18:08:40.655184Z",
          "iopub.execute_input": "2021-07-28T18:08:40.655717Z",
          "iopub.status.idle": "2021-07-28T18:08:40.659699Z",
          "shell.execute_reply.started": "2021-07-28T18:08:40.655686Z",
          "shell.execute_reply": "2021-07-28T18:08:40.658879Z"
        },
        "trusted": true,
        "id": "aW56aCxEKwDQ"
      },
      "source": [
        "from sklearn.metrics import classification_report,confusion_matrix"
      ],
      "execution_count": 26,
      "outputs": []
    },
    {
      "cell_type": "code",
      "metadata": {
        "id": "QdKMxbTyW2FM"
      },
      "source": [
        "dtree_predictions = dtree.predict(X_test)"
      ],
      "execution_count": 27,
      "outputs": []
    },
    {
      "cell_type": "code",
      "metadata": {
        "execution": {
          "iopub.status.busy": "2021-07-28T18:08:41.077955Z",
          "iopub.execute_input": "2021-07-28T18:08:41.078472Z",
          "iopub.status.idle": "2021-07-28T18:08:41.087391Z",
          "shell.execute_reply.started": "2021-07-28T18:08:41.078438Z",
          "shell.execute_reply": "2021-07-28T18:08:41.086591Z"
        },
        "trusted": true,
        "colab": {
          "base_uri": "https://localhost:8080/"
        },
        "id": "08KP6VITKwDQ",
        "outputId": "0cafdc9a-5804-4b42-8b91-a26d41c07087"
      },
      "source": [
        "print(classification_report(y_test,dtree_predictions))\n"
      ],
      "execution_count": 28,
      "outputs": [
        {
          "output_type": "stream",
          "name": "stdout",
          "text": [
            "              precision    recall  f1-score   support\n",
            "\n",
            "           0       0.80      0.67      0.73        54\n",
            "           1       0.67      0.80      0.73        46\n",
            "\n",
            "    accuracy                           0.73       100\n",
            "   macro avg       0.74      0.74      0.73       100\n",
            "weighted avg       0.74      0.73      0.73       100\n",
            "\n"
          ]
        }
      ]
    },
    {
      "cell_type": "code",
      "metadata": {
        "execution": {
          "iopub.status.busy": "2021-07-28T18:08:41.582266Z",
          "iopub.execute_input": "2021-07-28T18:08:41.582793Z",
          "iopub.status.idle": "2021-07-28T18:08:41.589616Z",
          "shell.execute_reply.started": "2021-07-28T18:08:41.582762Z",
          "shell.execute_reply": "2021-07-28T18:08:41.588453Z"
        },
        "trusted": true,
        "id": "Ffbu1RdlKwDQ"
      },
      "source": [
        "def rate(pred):\n",
        "    cfm = confusion_matrix(y_test, pred)\n",
        "    cfm = cfm.astype(np.float)\n",
        "    total=sum(sum(cfm))\n",
        "    sensitivity = cfm[0,0]/(cfm[0,0]+cfm[1,0])\n",
        "    specificity = cfm[1,1]/(cfm[1,1]+cfm[0,1])\n",
        "    accuracy = (cfm[0,0]+cfm[1,1])/total\n",
        "    dt={\n",
        "        \"Accuracy\": accuracy,\n",
        "        \"Sensivity\": sensitivity,\n",
        "        \"Specificity\": specificity\n",
        "    }    \n",
        "    return dt"
      ],
      "execution_count": 29,
      "outputs": []
    },
    {
      "cell_type": "code",
      "metadata": {
        "execution": {
          "iopub.status.busy": "2021-07-28T18:17:26.367201Z",
          "iopub.execute_input": "2021-07-28T18:17:26.367628Z",
          "iopub.status.idle": "2021-07-28T18:17:26.380356Z",
          "shell.execute_reply.started": "2021-07-28T18:17:26.367594Z",
          "shell.execute_reply": "2021-07-28T18:17:26.379638Z"
        },
        "trusted": true,
        "colab": {
          "base_uri": "https://localhost:8080/",
          "height": 80
        },
        "id": "6AwTtTzoKwDR",
        "outputId": "7b90a7a3-1d01-4260-8565-f9779b5f8419"
      },
      "source": [
        "dtree_report=pd.DataFrame(rate(dtree_predictions), index=['Decision Tree'])\n",
        "dtree_report"
      ],
      "execution_count": 30,
      "outputs": [
        {
          "output_type": "execute_result",
          "data": {
            "text/html": [
              "<div>\n",
              "<style scoped>\n",
              "    .dataframe tbody tr th:only-of-type {\n",
              "        vertical-align: middle;\n",
              "    }\n",
              "\n",
              "    .dataframe tbody tr th {\n",
              "        vertical-align: top;\n",
              "    }\n",
              "\n",
              "    .dataframe thead th {\n",
              "        text-align: right;\n",
              "    }\n",
              "</style>\n",
              "<table border=\"1\" class=\"dataframe\">\n",
              "  <thead>\n",
              "    <tr style=\"text-align: right;\">\n",
              "      <th></th>\n",
              "      <th>Accuracy</th>\n",
              "      <th>Sensivity</th>\n",
              "      <th>Specificity</th>\n",
              "    </tr>\n",
              "  </thead>\n",
              "  <tbody>\n",
              "    <tr>\n",
              "      <th>Decision Tree</th>\n",
              "      <td>0.73</td>\n",
              "      <td>0.8</td>\n",
              "      <td>0.672727</td>\n",
              "    </tr>\n",
              "  </tbody>\n",
              "</table>\n",
              "</div>"
            ],
            "text/plain": [
              "               Accuracy  Sensivity  Specificity\n",
              "Decision Tree      0.73        0.8     0.672727"
            ]
          },
          "metadata": {},
          "execution_count": 30
        }
      ]
    },
    {
      "cell_type": "markdown",
      "metadata": {
        "id": "8SPo6hjVKwDR"
      },
      "source": [
        "**2. Random Forest**"
      ]
    },
    {
      "cell_type": "code",
      "metadata": {
        "execution": {
          "iopub.status.busy": "2021-07-28T18:09:47.211293Z",
          "iopub.execute_input": "2021-07-28T18:09:47.211674Z",
          "iopub.status.idle": "2021-07-28T18:09:47.247192Z",
          "shell.execute_reply.started": "2021-07-28T18:09:47.211644Z",
          "shell.execute_reply": "2021-07-28T18:09:47.24644Z"
        },
        "trusted": true,
        "id": "8GehrT15KwDR"
      },
      "source": [
        "from sklearn.ensemble import RandomForestClassifier"
      ],
      "execution_count": 31,
      "outputs": []
    },
    {
      "cell_type": "code",
      "metadata": {
        "execution": {
          "iopub.status.busy": "2021-07-28T18:09:47.683862Z",
          "iopub.execute_input": "2021-07-28T18:09:47.684496Z",
          "iopub.status.idle": "2021-07-28T18:09:47.706578Z",
          "shell.execute_reply.started": "2021-07-28T18:09:47.684459Z",
          "shell.execute_reply": "2021-07-28T18:09:47.705868Z"
        },
        "trusted": true,
        "colab": {
          "base_uri": "https://localhost:8080/",
          "height": 224
        },
        "id": "SbJZWrnKKwDR",
        "outputId": "85e2aa13-f23a-4eec-9d5c-8d419bfda594"
      },
      "source": [
        "X_train.head()"
      ],
      "execution_count": 32,
      "outputs": [
        {
          "output_type": "execute_result",
          "data": {
            "text/html": [
              "<div>\n",
              "<style scoped>\n",
              "    .dataframe tbody tr th:only-of-type {\n",
              "        vertical-align: middle;\n",
              "    }\n",
              "\n",
              "    .dataframe tbody tr th {\n",
              "        vertical-align: top;\n",
              "    }\n",
              "\n",
              "    .dataframe thead th {\n",
              "        text-align: right;\n",
              "    }\n",
              "</style>\n",
              "<table border=\"1\" class=\"dataframe\">\n",
              "  <thead>\n",
              "    <tr style=\"text-align: right;\">\n",
              "      <th></th>\n",
              "      <th>age</th>\n",
              "      <th>trestbps</th>\n",
              "      <th>chol</th>\n",
              "      <th>thalach</th>\n",
              "      <th>oldpeak</th>\n",
              "      <th>ca</th>\n",
              "      <th>cp_1</th>\n",
              "      <th>cp_2</th>\n",
              "      <th>cp_3</th>\n",
              "      <th>thal_1</th>\n",
              "      <th>thal_2</th>\n",
              "      <th>thal_3</th>\n",
              "      <th>slope_1</th>\n",
              "      <th>slope_2</th>\n",
              "      <th>sex_1</th>\n",
              "      <th>fbs_1</th>\n",
              "      <th>restecg_1</th>\n",
              "      <th>restecg_2</th>\n",
              "      <th>exang_1</th>\n",
              "    </tr>\n",
              "  </thead>\n",
              "  <tbody>\n",
              "    <tr>\n",
              "      <th>20</th>\n",
              "      <td>0.625000</td>\n",
              "      <td>0.386792</td>\n",
              "      <td>0.246575</td>\n",
              "      <td>0.687023</td>\n",
              "      <td>0.080645</td>\n",
              "      <td>0.00</td>\n",
              "      <td>0</td>\n",
              "      <td>0</td>\n",
              "      <td>0</td>\n",
              "      <td>0</td>\n",
              "      <td>0</td>\n",
              "      <td>1</td>\n",
              "      <td>1</td>\n",
              "      <td>0</td>\n",
              "      <td>1</td>\n",
              "      <td>0</td>\n",
              "      <td>1</td>\n",
              "      <td>0</td>\n",
              "      <td>0</td>\n",
              "    </tr>\n",
              "    <tr>\n",
              "      <th>38</th>\n",
              "      <td>0.750000</td>\n",
              "      <td>0.575472</td>\n",
              "      <td>0.326484</td>\n",
              "      <td>0.587786</td>\n",
              "      <td>0.129032</td>\n",
              "      <td>0.00</td>\n",
              "      <td>0</td>\n",
              "      <td>1</td>\n",
              "      <td>0</td>\n",
              "      <td>0</td>\n",
              "      <td>1</td>\n",
              "      <td>0</td>\n",
              "      <td>0</td>\n",
              "      <td>1</td>\n",
              "      <td>0</td>\n",
              "      <td>0</td>\n",
              "      <td>1</td>\n",
              "      <td>0</td>\n",
              "      <td>0</td>\n",
              "    </tr>\n",
              "    <tr>\n",
              "      <th>167</th>\n",
              "      <td>0.687500</td>\n",
              "      <td>0.433962</td>\n",
              "      <td>0.324201</td>\n",
              "      <td>0.679389</td>\n",
              "      <td>0.580645</td>\n",
              "      <td>0.50</td>\n",
              "      <td>0</td>\n",
              "      <td>0</td>\n",
              "      <td>0</td>\n",
              "      <td>0</td>\n",
              "      <td>1</td>\n",
              "      <td>0</td>\n",
              "      <td>0</td>\n",
              "      <td>0</td>\n",
              "      <td>0</td>\n",
              "      <td>0</td>\n",
              "      <td>0</td>\n",
              "      <td>0</td>\n",
              "      <td>0</td>\n",
              "    </tr>\n",
              "    <tr>\n",
              "      <th>100</th>\n",
              "      <td>0.270833</td>\n",
              "      <td>0.509434</td>\n",
              "      <td>0.269406</td>\n",
              "      <td>0.816794</td>\n",
              "      <td>0.129032</td>\n",
              "      <td>0.50</td>\n",
              "      <td>0</td>\n",
              "      <td>0</td>\n",
              "      <td>1</td>\n",
              "      <td>0</td>\n",
              "      <td>1</td>\n",
              "      <td>0</td>\n",
              "      <td>0</td>\n",
              "      <td>1</td>\n",
              "      <td>1</td>\n",
              "      <td>0</td>\n",
              "      <td>0</td>\n",
              "      <td>0</td>\n",
              "      <td>0</td>\n",
              "    </tr>\n",
              "    <tr>\n",
              "      <th>111</th>\n",
              "      <td>0.583333</td>\n",
              "      <td>0.528302</td>\n",
              "      <td>0.000000</td>\n",
              "      <td>0.778626</td>\n",
              "      <td>0.032258</td>\n",
              "      <td>0.25</td>\n",
              "      <td>0</td>\n",
              "      <td>1</td>\n",
              "      <td>0</td>\n",
              "      <td>0</td>\n",
              "      <td>0</td>\n",
              "      <td>1</td>\n",
              "      <td>0</td>\n",
              "      <td>1</td>\n",
              "      <td>1</td>\n",
              "      <td>1</td>\n",
              "      <td>1</td>\n",
              "      <td>0</td>\n",
              "      <td>0</td>\n",
              "    </tr>\n",
              "  </tbody>\n",
              "</table>\n",
              "</div>"
            ],
            "text/plain": [
              "          age  trestbps      chol  ...  restecg_1  restecg_2  exang_1\n",
              "20   0.625000  0.386792  0.246575  ...          1          0        0\n",
              "38   0.750000  0.575472  0.326484  ...          1          0        0\n",
              "167  0.687500  0.433962  0.324201  ...          0          0        0\n",
              "100  0.270833  0.509434  0.269406  ...          0          0        0\n",
              "111  0.583333  0.528302  0.000000  ...          1          0        0\n",
              "\n",
              "[5 rows x 19 columns]"
            ]
          },
          "metadata": {},
          "execution_count": 32
        }
      ]
    },
    {
      "cell_type": "code",
      "metadata": {
        "execution": {
          "iopub.status.busy": "2021-07-28T18:09:48.260071Z",
          "iopub.execute_input": "2021-07-28T18:09:48.260703Z",
          "iopub.status.idle": "2021-07-28T18:09:49.415183Z",
          "shell.execute_reply.started": "2021-07-28T18:09:48.260657Z",
          "shell.execute_reply": "2021-07-28T18:09:49.414021Z"
        },
        "trusted": true,
        "colab": {
          "base_uri": "https://localhost:8080/"
        },
        "id": "rr1VUPrSKwDR",
        "outputId": "af084397-c308-45ea-8de5-ddb50c7fc507"
      },
      "source": [
        "rfc = RandomForestClassifier(n_estimators=600)\n",
        "rfc.fit(X_train,y_train)"
      ],
      "execution_count": 33,
      "outputs": [
        {
          "output_type": "execute_result",
          "data": {
            "text/plain": [
              "RandomForestClassifier(bootstrap=True, ccp_alpha=0.0, class_weight=None,\n",
              "                       criterion='gini', max_depth=None, max_features='auto',\n",
              "                       max_leaf_nodes=None, max_samples=None,\n",
              "                       min_impurity_decrease=0.0, min_impurity_split=None,\n",
              "                       min_samples_leaf=1, min_samples_split=2,\n",
              "                       min_weight_fraction_leaf=0.0, n_estimators=600,\n",
              "                       n_jobs=None, oob_score=False, random_state=None,\n",
              "                       verbose=0, warm_start=False)"
            ]
          },
          "metadata": {},
          "execution_count": 33
        }
      ]
    },
    {
      "cell_type": "code",
      "metadata": {
        "execution": {
          "iopub.status.busy": "2021-07-28T18:09:51.168859Z",
          "iopub.execute_input": "2021-07-28T18:09:51.16923Z",
          "iopub.status.idle": "2021-07-28T18:10:02.995066Z",
          "shell.execute_reply.started": "2021-07-28T18:09:51.169198Z",
          "shell.execute_reply": "2021-07-28T18:10:02.993899Z"
        },
        "trusted": true,
        "colab": {
          "base_uri": "https://localhost:8080/"
        },
        "id": "kXcRjDpAKwDR",
        "outputId": "d5275f9f-ec75-45f0-ba2a-51666499ed9c"
      },
      "source": [
        "cross_val_score(rfc, X_train,y_train,cv=10)"
      ],
      "execution_count": 34,
      "outputs": [
        {
          "output_type": "execute_result",
          "data": {
            "text/plain": [
              "array([0.85714286, 0.76190476, 0.85714286, 0.95      , 0.85      ,\n",
              "       0.95      , 0.8       , 0.85      , 0.85      , 0.75      ])"
            ]
          },
          "metadata": {},
          "execution_count": 34
        }
      ]
    },
    {
      "cell_type": "code",
      "metadata": {
        "execution": {
          "iopub.status.busy": "2021-07-28T18:10:12.600956Z",
          "iopub.execute_input": "2021-07-28T18:10:12.601306Z",
          "iopub.status.idle": "2021-07-28T18:10:12.674203Z",
          "shell.execute_reply.started": "2021-07-28T18:10:12.601276Z",
          "shell.execute_reply": "2021-07-28T18:10:12.673103Z"
        },
        "trusted": true,
        "id": "YDZeeHooKwDS"
      },
      "source": [
        "rfc_predictions = rfc.predict(X_test)"
      ],
      "execution_count": 35,
      "outputs": []
    },
    {
      "cell_type": "code",
      "metadata": {
        "execution": {
          "iopub.status.busy": "2021-07-28T18:10:14.438445Z",
          "iopub.execute_input": "2021-07-28T18:10:14.438791Z",
          "iopub.status.idle": "2021-07-28T18:10:14.449547Z",
          "shell.execute_reply.started": "2021-07-28T18:10:14.438763Z",
          "shell.execute_reply": "2021-07-28T18:10:14.447977Z"
        },
        "trusted": true,
        "colab": {
          "base_uri": "https://localhost:8080/"
        },
        "id": "v70OuGFfKwDS",
        "outputId": "10a2eeef-19b7-4426-f0a3-1e1832f38bca"
      },
      "source": [
        "print(classification_report(y_test,rfc_predictions))\n"
      ],
      "execution_count": 36,
      "outputs": [
        {
          "output_type": "stream",
          "name": "stdout",
          "text": [
            "              precision    recall  f1-score   support\n",
            "\n",
            "           0       0.89      0.61      0.73        54\n",
            "           1       0.67      0.91      0.77        46\n",
            "\n",
            "    accuracy                           0.75       100\n",
            "   macro avg       0.78      0.76      0.75       100\n",
            "weighted avg       0.79      0.75      0.75       100\n",
            "\n"
          ]
        }
      ]
    },
    {
      "cell_type": "code",
      "metadata": {
        "execution": {
          "iopub.status.busy": "2021-07-28T18:16:47.522203Z",
          "iopub.execute_input": "2021-07-28T18:16:47.522582Z",
          "iopub.status.idle": "2021-07-28T18:16:47.540126Z",
          "shell.execute_reply.started": "2021-07-28T18:16:47.522551Z",
          "shell.execute_reply": "2021-07-28T18:16:47.539094Z"
        },
        "trusted": true,
        "id": "H-OIBP9BKwDS"
      },
      "source": [
        "rfc_report=pd.DataFrame(rate(rfc_predictions),index=['Random Forest'])\n"
      ],
      "execution_count": 37,
      "outputs": []
    },
    {
      "cell_type": "markdown",
      "metadata": {
        "id": "pC9LAGrKKwDS"
      },
      "source": [
        "**3. Support Vector Machine**"
      ]
    },
    {
      "cell_type": "code",
      "metadata": {
        "execution": {
          "iopub.status.busy": "2021-07-28T18:17:36.794296Z",
          "iopub.execute_input": "2021-07-28T18:17:36.794663Z",
          "iopub.status.idle": "2021-07-28T18:17:36.79903Z",
          "shell.execute_reply.started": "2021-07-28T18:17:36.794634Z",
          "shell.execute_reply": "2021-07-28T18:17:36.79788Z"
        },
        "trusted": true,
        "id": "jQcrQZOxKwDS"
      },
      "source": [
        "from sklearn.svm import SVC"
      ],
      "execution_count": 38,
      "outputs": []
    },
    {
      "cell_type": "code",
      "metadata": {
        "execution": {
          "iopub.status.busy": "2021-07-28T18:17:37.290679Z",
          "iopub.execute_input": "2021-07-28T18:17:37.291018Z",
          "iopub.status.idle": "2021-07-28T18:17:37.30203Z",
          "shell.execute_reply.started": "2021-07-28T18:17:37.290989Z",
          "shell.execute_reply": "2021-07-28T18:17:37.301058Z"
        },
        "trusted": true,
        "colab": {
          "base_uri": "https://localhost:8080/"
        },
        "id": "cwh4EDfsKwDS",
        "outputId": "765c6c72-9d2b-4633-c0bf-6898671116a4"
      },
      "source": [
        "svc_model = SVC()\n",
        "svc_model.fit(X_train,y_train)"
      ],
      "execution_count": 39,
      "outputs": [
        {
          "output_type": "execute_result",
          "data": {
            "text/plain": [
              "SVC(C=1.0, break_ties=False, cache_size=200, class_weight=None, coef0=0.0,\n",
              "    decision_function_shape='ovr', degree=3, gamma='scale', kernel='rbf',\n",
              "    max_iter=-1, probability=False, random_state=None, shrinking=True,\n",
              "    tol=0.001, verbose=False)"
            ]
          },
          "metadata": {},
          "execution_count": 39
        }
      ]
    },
    {
      "cell_type": "code",
      "metadata": {
        "execution": {
          "iopub.status.busy": "2021-07-28T18:17:38.778012Z",
          "iopub.execute_input": "2021-07-28T18:17:38.778385Z",
          "iopub.status.idle": "2021-07-28T18:17:38.785597Z",
          "shell.execute_reply.started": "2021-07-28T18:17:38.778334Z",
          "shell.execute_reply": "2021-07-28T18:17:38.784514Z"
        },
        "trusted": true,
        "id": "uoNhqL31KwDS"
      },
      "source": [
        "svc_predictions = svc_model.predict(X_test)"
      ],
      "execution_count": 40,
      "outputs": []
    },
    {
      "cell_type": "code",
      "metadata": {
        "execution": {
          "iopub.status.busy": "2021-07-28T18:17:50.579917Z",
          "iopub.execute_input": "2021-07-28T18:17:50.580279Z",
          "iopub.status.idle": "2021-07-28T18:17:50.59206Z",
          "shell.execute_reply.started": "2021-07-28T18:17:50.58025Z",
          "shell.execute_reply": "2021-07-28T18:17:50.590941Z"
        },
        "trusted": true,
        "colab": {
          "base_uri": "https://localhost:8080/"
        },
        "id": "9yH2zTg-KwDS",
        "outputId": "8132dd1a-703e-4874-a087-592ba9773ab6"
      },
      "source": [
        "print(classification_report(y_test,svc_predictions))"
      ],
      "execution_count": 41,
      "outputs": [
        {
          "output_type": "stream",
          "name": "stdout",
          "text": [
            "              precision    recall  f1-score   support\n",
            "\n",
            "           0       0.90      0.69      0.78        54\n",
            "           1       0.71      0.91      0.80        46\n",
            "\n",
            "    accuracy                           0.79       100\n",
            "   macro avg       0.81      0.80      0.79       100\n",
            "weighted avg       0.81      0.79      0.79       100\n",
            "\n"
          ]
        }
      ]
    },
    {
      "cell_type": "code",
      "metadata": {
        "execution": {
          "iopub.status.busy": "2021-07-28T18:18:15.861198Z",
          "iopub.execute_input": "2021-07-28T18:18:15.861595Z",
          "iopub.status.idle": "2021-07-28T18:18:15.876226Z",
          "shell.execute_reply.started": "2021-07-28T18:18:15.861561Z",
          "shell.execute_reply": "2021-07-28T18:18:15.875162Z"
        },
        "trusted": true,
        "colab": {
          "base_uri": "https://localhost:8080/",
          "height": 80
        },
        "id": "xx2EoQMoKwDT",
        "outputId": "791709ac-9be8-4b0c-d9e2-e624afb8c148"
      },
      "source": [
        "svc_report=pd.DataFrame(rate(svc_predictions),index=['Support Vector Machine'])\n",
        "svc_report"
      ],
      "execution_count": 42,
      "outputs": [
        {
          "output_type": "execute_result",
          "data": {
            "text/html": [
              "<div>\n",
              "<style scoped>\n",
              "    .dataframe tbody tr th:only-of-type {\n",
              "        vertical-align: middle;\n",
              "    }\n",
              "\n",
              "    .dataframe tbody tr th {\n",
              "        vertical-align: top;\n",
              "    }\n",
              "\n",
              "    .dataframe thead th {\n",
              "        text-align: right;\n",
              "    }\n",
              "</style>\n",
              "<table border=\"1\" class=\"dataframe\">\n",
              "  <thead>\n",
              "    <tr style=\"text-align: right;\">\n",
              "      <th></th>\n",
              "      <th>Accuracy</th>\n",
              "      <th>Sensivity</th>\n",
              "      <th>Specificity</th>\n",
              "    </tr>\n",
              "  </thead>\n",
              "  <tbody>\n",
              "    <tr>\n",
              "      <th>Support Vector Machine</th>\n",
              "      <td>0.79</td>\n",
              "      <td>0.902439</td>\n",
              "      <td>0.711864</td>\n",
              "    </tr>\n",
              "  </tbody>\n",
              "</table>\n",
              "</div>"
            ],
            "text/plain": [
              "                        Accuracy  Sensivity  Specificity\n",
              "Support Vector Machine      0.79   0.902439     0.711864"
            ]
          },
          "metadata": {},
          "execution_count": 42
        }
      ]
    },
    {
      "cell_type": "markdown",
      "metadata": {
        "id": "xrBBfllsKwDT"
      },
      "source": [
        "**4. K-Nearest neighbor (KNN)**"
      ]
    },
    {
      "cell_type": "code",
      "metadata": {
        "execution": {
          "iopub.status.busy": "2021-07-28T18:18:19.615621Z",
          "iopub.execute_input": "2021-07-28T18:18:19.615989Z",
          "iopub.status.idle": "2021-07-28T18:18:19.620539Z",
          "shell.execute_reply.started": "2021-07-28T18:18:19.615959Z",
          "shell.execute_reply": "2021-07-28T18:18:19.619421Z"
        },
        "trusted": true,
        "id": "3H2ppS4BKwDT"
      },
      "source": [
        "from sklearn.neighbors import KNeighborsClassifier"
      ],
      "execution_count": 43,
      "outputs": []
    },
    {
      "cell_type": "code",
      "metadata": {
        "execution": {
          "iopub.status.busy": "2021-07-28T18:07:17.82369Z",
          "iopub.status.idle": "2021-07-28T18:07:17.824211Z"
        },
        "trusted": true,
        "id": "gHMRaowBKwDT"
      },
      "source": [
        "error_rate = []\n",
        "\n",
        "# Will take some time\n",
        "for i in range(1,40):\n",
        "    \n",
        "    knn = KNeighborsClassifier(n_neighbors=i)\n",
        "    knn.fit(X_train,y_train)\n",
        "    pred_i = knn.predict(X_test)\n",
        "    error_rate.append(np.mean(pred_i != y_test))"
      ],
      "execution_count": 44,
      "outputs": []
    },
    {
      "cell_type": "code",
      "metadata": {
        "execution": {
          "iopub.status.busy": "2021-07-28T18:07:17.825053Z",
          "iopub.status.idle": "2021-07-28T18:07:17.82561Z"
        },
        "trusted": true,
        "colab": {
          "base_uri": "https://localhost:8080/",
          "height": 421
        },
        "id": "SuuduqgrKwDT",
        "outputId": "89646a96-ff60-4d93-ec45-fea649e22e0d"
      },
      "source": [
        "\n",
        "plt.figure(figsize=(10,6))\n",
        "plt.plot(range(1,40),error_rate,color='blue', linestyle='dashed', marker='o',\n",
        "         markerfacecolor='red', markersize=10)\n",
        "plt.title('Error Rate vs. K Value')\n",
        "plt.xlabel('K')\n",
        "plt.ylabel('Error Rate')"
      ],
      "execution_count": 45,
      "outputs": [
        {
          "output_type": "execute_result",
          "data": {
            "text/plain": [
              "Text(0, 0.5, 'Error Rate')"
            ]
          },
          "metadata": {},
          "execution_count": 45
        },
        {
          "output_type": "display_data",
          "data": {
            "image/png": "[encoded data removed]",
            "text/plain": [
              "<Figure size 720x432 with 1 Axes>"
            ]
          },
          "metadata": {
            "needs_background": "light"
          }
        }
      ]
    },
    {
      "cell_type": "code",
      "metadata": {
        "execution": {
          "iopub.status.busy": "2021-07-28T18:18:25.073196Z",
          "iopub.execute_input": "2021-07-28T18:18:25.073552Z",
          "iopub.status.idle": "2021-07-28T18:18:25.09228Z",
          "shell.execute_reply.started": "2021-07-28T18:18:25.073521Z",
          "shell.execute_reply": "2021-07-28T18:18:25.091241Z"
        },
        "trusted": true,
        "id": "CIKBLesmKwDT"
      },
      "source": [
        "knn = KNeighborsClassifier(n_neighbors=34)\n",
        "\n",
        "knn.fit(X_train,y_train)\n",
        "knn_predictions = knn.predict(X_test)"
      ],
      "execution_count": 46,
      "outputs": []
    },
    {
      "cell_type": "code",
      "metadata": {
        "execution": {
          "iopub.status.busy": "2021-07-28T18:18:27.408405Z",
          "iopub.execute_input": "2021-07-28T18:18:27.408785Z",
          "iopub.status.idle": "2021-07-28T18:18:27.420492Z",
          "shell.execute_reply.started": "2021-07-28T18:18:27.408753Z",
          "shell.execute_reply": "2021-07-28T18:18:27.419406Z"
        },
        "trusted": true,
        "colab": {
          "base_uri": "https://localhost:8080/"
        },
        "id": "-AWLOOxbKwDT",
        "outputId": "100bff70-a5d3-4fe5-d72c-961abbf3bead"
      },
      "source": [
        "print('WITH K=34')\n",
        "print('\\n')\n",
        "print(classification_report(y_test,knn_predictions))"
      ],
      "execution_count": 47,
      "outputs": [
        {
          "output_type": "stream",
          "name": "stdout",
          "text": [
            "WITH K=34\n",
            "\n",
            "\n",
            "              precision    recall  f1-score   support\n",
            "\n",
            "           0       0.88      0.81      0.85        54\n",
            "           1       0.80      0.87      0.83        46\n",
            "\n",
            "    accuracy                           0.84       100\n",
            "   macro avg       0.84      0.84      0.84       100\n",
            "weighted avg       0.84      0.84      0.84       100\n",
            "\n"
          ]
        }
      ]
    },
    {
      "cell_type": "code",
      "metadata": {
        "execution": {
          "iopub.status.busy": "2021-07-28T18:18:52.819296Z",
          "iopub.execute_input": "2021-07-28T18:18:52.819674Z",
          "iopub.status.idle": "2021-07-28T18:18:52.828274Z",
          "shell.execute_reply.started": "2021-07-28T18:18:52.819643Z",
          "shell.execute_reply": "2021-07-28T18:18:52.827105Z"
        },
        "trusted": true,
        "id": "SbbEDNK8KwDT"
      },
      "source": [
        "knn_report=pd.DataFrame(rate(knn_predictions),index=['K_Nearest Neighbor'])\n"
      ],
      "execution_count": 48,
      "outputs": []
    },
    {
      "cell_type": "markdown",
      "metadata": {
        "id": "aZaLER4OKwDU"
      },
      "source": [
        "**5. Logistic Regression**"
      ]
    },
    {
      "cell_type": "code",
      "metadata": {
        "execution": {
          "iopub.status.busy": "2021-07-28T18:18:55.410869Z",
          "iopub.execute_input": "2021-07-28T18:18:55.411331Z",
          "iopub.status.idle": "2021-07-28T18:18:55.415682Z",
          "shell.execute_reply.started": "2021-07-28T18:18:55.411301Z",
          "shell.execute_reply": "2021-07-28T18:18:55.414693Z"
        },
        "trusted": true,
        "id": "CqhP45bjKwDU"
      },
      "source": [
        "from sklearn.linear_model import LogisticRegression"
      ],
      "execution_count": 49,
      "outputs": []
    },
    {
      "cell_type": "code",
      "metadata": {
        "execution": {
          "iopub.status.busy": "2021-07-28T18:19:02.170214Z",
          "iopub.execute_input": "2021-07-28T18:19:02.170783Z",
          "iopub.status.idle": "2021-07-28T18:19:02.354989Z",
          "shell.execute_reply.started": "2021-07-28T18:19:02.170745Z",
          "shell.execute_reply": "2021-07-28T18:19:02.353791Z"
        },
        "trusted": true,
        "colab": {
          "base_uri": "https://localhost:8080/"
        },
        "id": "g9fS2XmdKwDU",
        "outputId": "cf729993-4d6f-4df3-cda4-4085695add81"
      },
      "source": [
        "logmodel = LogisticRegression()\n",
        "logmodel.fit(X_train,y_train)"
      ],
      "execution_count": 50,
      "outputs": [
        {
          "output_type": "execute_result",
          "data": {
            "text/plain": [
              "LogisticRegression(C=1.0, class_weight=None, dual=False, fit_intercept=True,\n",
              "                   intercept_scaling=1, l1_ratio=None, max_iter=100,\n",
              "                   multi_class='auto', n_jobs=None, penalty='l2',\n",
              "                   random_state=None, solver='lbfgs', tol=0.0001, verbose=0,\n",
              "                   warm_start=False)"
            ]
          },
          "metadata": {},
          "execution_count": 50
        }
      ]
    },
    {
      "cell_type": "code",
      "metadata": {
        "execution": {
          "iopub.status.busy": "2021-07-28T18:19:02.776469Z",
          "iopub.execute_input": "2021-07-28T18:19:02.776852Z",
          "iopub.status.idle": "2021-07-28T18:19:02.783121Z",
          "shell.execute_reply.started": "2021-07-28T18:19:02.776822Z",
          "shell.execute_reply": "2021-07-28T18:19:02.782394Z"
        },
        "trusted": true,
        "id": "_PByb1JmKwDU"
      },
      "source": [
        "log_predictions = logmodel.predict(X_test)"
      ],
      "execution_count": 51,
      "outputs": []
    },
    {
      "cell_type": "code",
      "metadata": {
        "execution": {
          "iopub.status.busy": "2021-07-28T18:19:04.560308Z",
          "iopub.execute_input": "2021-07-28T18:19:04.560686Z",
          "iopub.status.idle": "2021-07-28T18:19:04.571966Z",
          "shell.execute_reply.started": "2021-07-28T18:19:04.560656Z",
          "shell.execute_reply": "2021-07-28T18:19:04.570739Z"
        },
        "trusted": true,
        "colab": {
          "base_uri": "https://localhost:8080/"
        },
        "id": "wYkcDPj1KwDU",
        "outputId": "da044b2d-f8b1-43fc-ba2c-9d2d7d0a2ae0"
      },
      "source": [
        "print(classification_report(y_test,log_predictions))"
      ],
      "execution_count": 52,
      "outputs": [
        {
          "output_type": "stream",
          "name": "stdout",
          "text": [
            "              precision    recall  f1-score   support\n",
            "\n",
            "           0       0.90      0.70      0.79        54\n",
            "           1       0.72      0.91      0.81        46\n",
            "\n",
            "    accuracy                           0.80       100\n",
            "   macro avg       0.81      0.81      0.80       100\n",
            "weighted avg       0.82      0.80      0.80       100\n",
            "\n"
          ]
        }
      ]
    },
    {
      "cell_type": "code",
      "metadata": {
        "execution": {
          "iopub.status.busy": "2021-07-28T18:25:15.37681Z",
          "iopub.execute_input": "2021-07-28T18:25:15.377193Z",
          "iopub.status.idle": "2021-07-28T18:25:15.38319Z",
          "shell.execute_reply.started": "2021-07-28T18:25:15.377159Z",
          "shell.execute_reply": "2021-07-28T18:25:15.382492Z"
        },
        "trusted": true,
        "colab": {
          "base_uri": "https://localhost:8080/"
        },
        "id": "pjs4NvM0KwDU",
        "outputId": "c3a21611-eb6c-4a7d-c86b-5f2c26d83048"
      },
      "source": [
        "log_predictions"
      ],
      "execution_count": 53,
      "outputs": [
        {
          "output_type": "execute_result",
          "data": {
            "text/plain": [
              "array([0, 0, 0, 1, 0, 1, 1, 1, 1, 0, 1, 0, 1, 1, 0, 1, 0, 0, 1, 0, 0, 1,\n",
              "       1, 1, 0, 0, 0, 0, 1, 0, 1, 0, 0, 0, 0, 0, 1, 1, 1, 0, 0, 0, 1, 1,\n",
              "       1, 1, 0, 1, 1, 1, 1, 1, 0, 0, 1, 1, 1, 1, 0, 0, 1, 1, 1, 0, 1, 1,\n",
              "       1, 1, 0, 0, 1, 1, 0, 1, 0, 1, 0, 0, 0, 1, 0, 1, 1, 1, 1, 0, 1, 1,\n",
              "       0, 1, 0, 1, 1, 0, 1, 1, 1, 1, 1, 1])"
            ]
          },
          "metadata": {},
          "execution_count": 53
        }
      ]
    },
    {
      "cell_type": "code",
      "metadata": {
        "colab": {
          "base_uri": "https://localhost:8080/",
          "height": 80
        },
        "id": "WBV0Mu-AXhWC",
        "outputId": "587f9a89-8bf0-44bd-c5a1-abef1e26539f"
      },
      "source": [
        "log_report=pd.DataFrame(rate(log_predictions),index=['Logistic Regression'])\n",
        "log_report"
      ],
      "execution_count": 54,
      "outputs": [
        {
          "output_type": "execute_result",
          "data": {
            "text/html": [
              "<div>\n",
              "<style scoped>\n",
              "    .dataframe tbody tr th:only-of-type {\n",
              "        vertical-align: middle;\n",
              "    }\n",
              "\n",
              "    .dataframe tbody tr th {\n",
              "        vertical-align: top;\n",
              "    }\n",
              "\n",
              "    .dataframe thead th {\n",
              "        text-align: right;\n",
              "    }\n",
              "</style>\n",
              "<table border=\"1\" class=\"dataframe\">\n",
              "  <thead>\n",
              "    <tr style=\"text-align: right;\">\n",
              "      <th></th>\n",
              "      <th>Accuracy</th>\n",
              "      <th>Sensivity</th>\n",
              "      <th>Specificity</th>\n",
              "    </tr>\n",
              "  </thead>\n",
              "  <tbody>\n",
              "    <tr>\n",
              "      <th>Logistic Regression</th>\n",
              "      <td>0.8</td>\n",
              "      <td>0.904762</td>\n",
              "      <td>0.724138</td>\n",
              "    </tr>\n",
              "  </tbody>\n",
              "</table>\n",
              "</div>"
            ],
            "text/plain": [
              "                     Accuracy  Sensivity  Specificity\n",
              "Logistic Regression       0.8   0.904762     0.724138"
            ]
          },
          "metadata": {},
          "execution_count": 54
        }
      ]
    },
    {
      "cell_type": "code",
      "metadata": {
        "id": "meN3nt44XhNi"
      },
      "source": [
        ""
      ],
      "execution_count": 54,
      "outputs": []
    },
    {
      "cell_type": "markdown",
      "metadata": {
        "id": "faqY2zyuKwDU"
      },
      "source": [
        ""
      ]
    },
    {
      "cell_type": "markdown",
      "metadata": {
        "id": "2GJP4pMfKwDV"
      },
      "source": [
        "**6. Naive Bayes**"
      ]
    },
    {
      "cell_type": "code",
      "metadata": {
        "execution": {
          "iopub.status.busy": "2021-07-28T18:19:33.739596Z",
          "iopub.execute_input": "2021-07-28T18:19:33.739958Z",
          "iopub.status.idle": "2021-07-28T18:19:33.74717Z",
          "shell.execute_reply.started": "2021-07-28T18:19:33.739925Z",
          "shell.execute_reply": "2021-07-28T18:19:33.746471Z"
        },
        "trusted": true,
        "id": "w7xvSHjLKwDV"
      },
      "source": [
        "from sklearn.naive_bayes import GaussianNB"
      ],
      "execution_count": 55,
      "outputs": []
    },
    {
      "cell_type": "code",
      "metadata": {
        "execution": {
          "iopub.status.busy": "2021-07-28T18:19:35.181712Z",
          "iopub.execute_input": "2021-07-28T18:19:35.182055Z",
          "iopub.status.idle": "2021-07-28T18:19:35.191447Z",
          "shell.execute_reply.started": "2021-07-28T18:19:35.182025Z",
          "shell.execute_reply": "2021-07-28T18:19:35.190561Z"
        },
        "trusted": true,
        "colab": {
          "base_uri": "https://localhost:8080/"
        },
        "id": "yX8dO--GKwDV",
        "outputId": "403db136-e8a7-420a-c3c6-fed2bf281d34"
      },
      "source": [
        "gnb = GaussianNB()\n",
        "gnb.fit(X_train, y_train)"
      ],
      "execution_count": 56,
      "outputs": [
        {
          "output_type": "execute_result",
          "data": {
            "text/plain": [
              "GaussianNB(priors=None, var_smoothing=1e-09)"
            ]
          },
          "metadata": {},
          "execution_count": 56
        }
      ]
    },
    {
      "cell_type": "code",
      "metadata": {
        "execution": {
          "iopub.status.busy": "2021-07-28T18:19:37.865076Z",
          "iopub.execute_input": "2021-07-28T18:19:37.865465Z",
          "iopub.status.idle": "2021-07-28T18:19:37.872836Z",
          "shell.execute_reply.started": "2021-07-28T18:19:37.86543Z",
          "shell.execute_reply": "2021-07-28T18:19:37.871421Z"
        },
        "trusted": true,
        "id": "_3v6j1pPKwDV"
      },
      "source": [
        "gnb_predictions=gnb.predict(X_test)"
      ],
      "execution_count": 57,
      "outputs": []
    },
    {
      "cell_type": "code",
      "metadata": {
        "execution": {
          "iopub.status.busy": "2021-07-28T18:19:40.355722Z",
          "iopub.execute_input": "2021-07-28T18:19:40.356076Z",
          "iopub.status.idle": "2021-07-28T18:19:40.367973Z",
          "shell.execute_reply.started": "2021-07-28T18:19:40.356044Z",
          "shell.execute_reply": "2021-07-28T18:19:40.366966Z"
        },
        "trusted": true,
        "colab": {
          "base_uri": "https://localhost:8080/"
        },
        "id": "04VGYrN4KwDV",
        "outputId": "ec013769-8eef-42aa-fe04-08303623966d"
      },
      "source": [
        "print(classification_report(y_test,gnb_predictions))"
      ],
      "execution_count": 58,
      "outputs": [
        {
          "output_type": "stream",
          "name": "stdout",
          "text": [
            "              precision    recall  f1-score   support\n",
            "\n",
            "           0       0.90      0.69      0.78        54\n",
            "           1       0.71      0.91      0.80        46\n",
            "\n",
            "    accuracy                           0.79       100\n",
            "   macro avg       0.81      0.80      0.79       100\n",
            "weighted avg       0.81      0.79      0.79       100\n",
            "\n"
          ]
        }
      ]
    },
    {
      "cell_type": "code",
      "metadata": {
        "execution": {
          "iopub.status.busy": "2021-07-28T18:20:09.488273Z",
          "iopub.execute_input": "2021-07-28T18:20:09.48878Z",
          "iopub.status.idle": "2021-07-28T18:20:09.50107Z",
          "shell.execute_reply.started": "2021-07-28T18:20:09.488747Z",
          "shell.execute_reply": "2021-07-28T18:20:09.500374Z"
        },
        "trusted": true,
        "colab": {
          "base_uri": "https://localhost:8080/",
          "height": 80
        },
        "id": "LZSNq0I1KwDV",
        "outputId": "74ec8bea-c8c2-4c64-9b5e-03964ff5bd38"
      },
      "source": [
        "gnb_report=pd.DataFrame(rate(gnb_predictions),index=['Naives Bayes'])\n",
        "gnb_report"
      ],
      "execution_count": 59,
      "outputs": [
        {
          "output_type": "execute_result",
          "data": {
            "text/html": [
              "<div>\n",
              "<style scoped>\n",
              "    .dataframe tbody tr th:only-of-type {\n",
              "        vertical-align: middle;\n",
              "    }\n",
              "\n",
              "    .dataframe tbody tr th {\n",
              "        vertical-align: top;\n",
              "    }\n",
              "\n",
              "    .dataframe thead th {\n",
              "        text-align: right;\n",
              "    }\n",
              "</style>\n",
              "<table border=\"1\" class=\"dataframe\">\n",
              "  <thead>\n",
              "    <tr style=\"text-align: right;\">\n",
              "      <th></th>\n",
              "      <th>Accuracy</th>\n",
              "      <th>Sensivity</th>\n",
              "      <th>Specificity</th>\n",
              "    </tr>\n",
              "  </thead>\n",
              "  <tbody>\n",
              "    <tr>\n",
              "      <th>Naives Bayes</th>\n",
              "      <td>0.79</td>\n",
              "      <td>0.902439</td>\n",
              "      <td>0.711864</td>\n",
              "    </tr>\n",
              "  </tbody>\n",
              "</table>\n",
              "</div>"
            ],
            "text/plain": [
              "              Accuracy  Sensivity  Specificity\n",
              "Naives Bayes      0.79   0.902439     0.711864"
            ]
          },
          "metadata": {},
          "execution_count": 59
        }
      ]
    },
    {
      "cell_type": "markdown",
      "metadata": {
        "id": "zzUFzaT8KwDV"
      },
      "source": [
        "**7. Artificial Neural Network**"
      ]
    },
    {
      "cell_type": "code",
      "metadata": {
        "execution": {
          "iopub.status.busy": "2021-07-28T19:24:26.827055Z",
          "iopub.execute_input": "2021-07-28T19:24:26.82767Z",
          "iopub.status.idle": "2021-07-28T19:24:26.832007Z",
          "shell.execute_reply.started": "2021-07-28T19:24:26.827633Z",
          "shell.execute_reply": "2021-07-28T19:24:26.830723Z"
        },
        "trusted": true,
        "id": "VTMsrihlKwDW"
      },
      "source": [
        "from tensorflow import keras\n",
        "from tensorflow.keras import layers\n"
      ],
      "execution_count": 60,
      "outputs": []
    },
    {
      "cell_type": "code",
      "metadata": {
        "execution": {
          "iopub.status.busy": "2021-07-28T19:24:27.25603Z",
          "iopub.execute_input": "2021-07-28T19:24:27.258017Z",
          "iopub.status.idle": "2021-07-28T19:24:27.263098Z",
          "shell.execute_reply.started": "2021-07-28T19:24:27.257976Z",
          "shell.execute_reply": "2021-07-28T19:24:27.262425Z"
        },
        "trusted": true,
        "colab": {
          "base_uri": "https://localhost:8080/"
        },
        "id": "bpvRN64aKwDW",
        "outputId": "acfc81df-6276-4c5e-8f1a-1908f939d148"
      },
      "source": [
        "X_train.shape"
      ],
      "execution_count": 61,
      "outputs": [
        {
          "output_type": "execute_result",
          "data": {
            "text/plain": [
              "(203, 19)"
            ]
          },
          "metadata": {},
          "execution_count": 61
        }
      ]
    },
    {
      "cell_type": "code",
      "metadata": {
        "execution": {
          "iopub.status.busy": "2021-07-28T19:24:27.584765Z",
          "iopub.execute_input": "2021-07-28T19:24:27.585407Z",
          "iopub.status.idle": "2021-07-28T19:24:27.676797Z",
          "shell.execute_reply.started": "2021-07-28T19:24:27.585368Z",
          "shell.execute_reply": "2021-07-28T19:24:27.675578Z"
        },
        "trusted": true,
        "id": "fd-4Rm7IKwDW"
      },
      "source": [
        "model = keras.Sequential([\n",
        "    layers.Dense(13, activation='relu', input_shape=[19]),\n",
        "    layers.Dropout(0.3),\n",
        "    layers.BatchNormalization(),\n",
        "    layers.Dense(16, activation='relu'), \n",
        "    layers.Dropout(0.3),\n",
        "    layers.BatchNormalization(),\n",
        "    layers.Dense(2, activation='relu'), \n",
        "    layers.Dropout(0.3),\n",
        "    layers.BatchNormalization(),\n",
        "    layers.Dense(1, activation='sigmoid'),\n",
        "])"
      ],
      "execution_count": 62,
      "outputs": []
    },
    {
      "cell_type": "code",
      "metadata": {
        "execution": {
          "iopub.status.busy": "2021-07-28T19:24:27.77839Z",
          "iopub.execute_input": "2021-07-28T19:24:27.778886Z",
          "iopub.status.idle": "2021-07-28T19:24:27.791867Z",
          "shell.execute_reply.started": "2021-07-28T19:24:27.778853Z",
          "shell.execute_reply": "2021-07-28T19:24:27.790847Z"
        },
        "trusted": true,
        "id": "vySHXLdLKwDW"
      },
      "source": [
        "model.compile(\n",
        "    optimizer='adam',\n",
        "    loss='binary_crossentropy',\n",
        "    metrics=['binary_accuracy'],\n",
        ")"
      ],
      "execution_count": 63,
      "outputs": []
    },
    {
      "cell_type": "code",
      "metadata": {
        "execution": {
          "iopub.status.busy": "2021-07-28T19:24:27.905426Z",
          "iopub.execute_input": "2021-07-28T19:24:27.906033Z",
          "iopub.status.idle": "2021-07-28T19:24:49.983772Z",
          "shell.execute_reply.started": "2021-07-28T19:24:27.905997Z",
          "shell.execute_reply": "2021-07-28T19:24:49.982779Z"
        },
        "trusted": true,
        "id": "7FB8ifAvKwDW"
      },
      "source": [
        "history = model.fit(\n",
        "    X_train, y_train,\n",
        "    validation_data=(X_test, y_test),\n",
        "    batch_size=20,\n",
        "    epochs=250,\n",
        "    verbose=0, # hide the output because we have so many epochs\n",
        ")"
      ],
      "execution_count": 64,
      "outputs": []
    },
    {
      "cell_type": "code",
      "metadata": {
        "execution": {
          "iopub.status.busy": "2021-07-28T19:24:49.985615Z",
          "iopub.execute_input": "2021-07-28T19:24:49.986197Z",
          "iopub.status.idle": "2021-07-28T19:24:50.004158Z",
          "shell.execute_reply.started": "2021-07-28T19:24:49.986153Z",
          "shell.execute_reply": "2021-07-28T19:24:50.00314Z"
        },
        "trusted": true,
        "colab": {
          "base_uri": "https://localhost:8080/",
          "height": 419
        },
        "id": "G-FbzdDuKwDX",
        "outputId": "be2f98d1-3e5e-492a-9792-6b807f03a7e3"
      },
      "source": [
        "history_df = pd.DataFrame(history.history)\n",
        "history_df"
      ],
      "execution_count": 65,
      "outputs": [
        {
          "output_type": "execute_result",
          "data": {
            "text/html": [
              "<div>\n",
              "<style scoped>\n",
              "    .dataframe tbody tr th:only-of-type {\n",
              "        vertical-align: middle;\n",
              "    }\n",
              "\n",
              "    .dataframe tbody tr th {\n",
              "        vertical-align: top;\n",
              "    }\n",
              "\n",
              "    .dataframe thead th {\n",
              "        text-align: right;\n",
              "    }\n",
              "</style>\n",
              "<table border=\"1\" class=\"dataframe\">\n",
              "  <thead>\n",
              "    <tr style=\"text-align: right;\">\n",
              "      <th></th>\n",
              "      <th>loss</th>\n",
              "      <th>binary_accuracy</th>\n",
              "      <th>val_loss</th>\n",
              "      <th>val_binary_accuracy</th>\n",
              "    </tr>\n",
              "  </thead>\n",
              "  <tbody>\n",
              "    <tr>\n",
              "      <th>0</th>\n",
              "      <td>0.789268</td>\n",
              "      <td>0.482759</td>\n",
              "      <td>0.646215</td>\n",
              "      <td>0.57</td>\n",
              "    </tr>\n",
              "    <tr>\n",
              "      <th>1</th>\n",
              "      <td>0.825431</td>\n",
              "      <td>0.497537</td>\n",
              "      <td>0.637043</td>\n",
              "      <td>0.71</td>\n",
              "    </tr>\n",
              "    <tr>\n",
              "      <th>2</th>\n",
              "      <td>0.733547</td>\n",
              "      <td>0.556650</td>\n",
              "      <td>0.632671</td>\n",
              "      <td>0.75</td>\n",
              "    </tr>\n",
              "    <tr>\n",
              "      <th>3</th>\n",
              "      <td>0.730058</td>\n",
              "      <td>0.586207</td>\n",
              "      <td>0.632417</td>\n",
              "      <td>0.79</td>\n",
              "    </tr>\n",
              "    <tr>\n",
              "      <th>4</th>\n",
              "      <td>0.648780</td>\n",
              "      <td>0.600985</td>\n",
              "      <td>0.631769</td>\n",
              "      <td>0.76</td>\n",
              "    </tr>\n",
              "    <tr>\n",
              "      <th>...</th>\n",
              "      <td>...</td>\n",
              "      <td>...</td>\n",
              "      <td>...</td>\n",
              "      <td>...</td>\n",
              "    </tr>\n",
              "    <tr>\n",
              "      <th>245</th>\n",
              "      <td>0.440845</td>\n",
              "      <td>0.763547</td>\n",
              "      <td>0.460141</td>\n",
              "      <td>0.76</td>\n",
              "    </tr>\n",
              "    <tr>\n",
              "      <th>246</th>\n",
              "      <td>0.443839</td>\n",
              "      <td>0.758621</td>\n",
              "      <td>0.462915</td>\n",
              "      <td>0.76</td>\n",
              "    </tr>\n",
              "    <tr>\n",
              "      <th>247</th>\n",
              "      <td>0.433892</td>\n",
              "      <td>0.758621</td>\n",
              "      <td>0.462542</td>\n",
              "      <td>0.76</td>\n",
              "    </tr>\n",
              "    <tr>\n",
              "      <th>248</th>\n",
              "      <td>0.470142</td>\n",
              "      <td>0.753695</td>\n",
              "      <td>0.464018</td>\n",
              "      <td>0.76</td>\n",
              "    </tr>\n",
              "    <tr>\n",
              "      <th>249</th>\n",
              "      <td>0.506802</td>\n",
              "      <td>0.758621</td>\n",
              "      <td>0.468539</td>\n",
              "      <td>0.76</td>\n",
              "    </tr>\n",
              "  </tbody>\n",
              "</table>\n",
              "<p>250 rows × 4 columns</p>\n",
              "</div>"
            ],
            "text/plain": [
              "         loss  binary_accuracy  val_loss  val_binary_accuracy\n",
              "0    0.789268         0.482759  0.646215                 0.57\n",
              "1    0.825431         0.497537  0.637043                 0.71\n",
              "2    0.733547         0.556650  0.632671                 0.75\n",
              "3    0.730058         0.586207  0.632417                 0.79\n",
              "4    0.648780         0.600985  0.631769                 0.76\n",
              "..        ...              ...       ...                  ...\n",
              "245  0.440845         0.763547  0.460141                 0.76\n",
              "246  0.443839         0.758621  0.462915                 0.76\n",
              "247  0.433892         0.758621  0.462542                 0.76\n",
              "248  0.470142         0.753695  0.464018                 0.76\n",
              "249  0.506802         0.758621  0.468539                 0.76\n",
              "\n",
              "[250 rows x 4 columns]"
            ]
          },
          "metadata": {},
          "execution_count": 65
        }
      ]
    },
    {
      "cell_type": "code",
      "metadata": {
        "execution": {
          "iopub.status.busy": "2021-07-28T19:24:50.006281Z",
          "iopub.execute_input": "2021-07-28T19:24:50.006983Z",
          "iopub.status.idle": "2021-07-28T19:24:50.408362Z",
          "shell.execute_reply.started": "2021-07-28T19:24:50.006935Z",
          "shell.execute_reply": "2021-07-28T19:24:50.40714Z"
        },
        "trusted": true,
        "colab": {
          "base_uri": "https://localhost:8080/",
          "height": 547
        },
        "id": "2PGcSCfoKwDX",
        "outputId": "41bfaf24-4af2-40dc-9bf8-c4f415359d01"
      },
      "source": [
        "history_df = pd.DataFrame(history.history)\n",
        "# Start the plot at epoch 5\n",
        "history_df.loc[:, ['loss', 'val_loss']].plot()\n",
        "history_df.loc[:, ['binary_accuracy', 'val_binary_accuracy']].plot()\n",
        "\n",
        "print((\"Best Validation Loss: {:0.4f}\" +\\\n",
        "      \"\\nBest Validation Accuracy: {:0.4f}\")\\\n",
        "      .format(history_df['val_loss'].min(), \n",
        "              history_df['val_binary_accuracy'].max()))\n"
      ],
      "execution_count": 66,
      "outputs": [
        {
          "output_type": "stream",
          "name": "stdout",
          "text": [
            "Best Validation Loss: 0.4565\n",
            "Best Validation Accuracy: 0.7900\n"
          ]
        },
        {
          "output_type": "display_data",
          "data": {
            "image/png": "[encoded data removed]",
            "text/plain": [
              "<Figure size 432x288 with 1 Axes>"
            ]
          },
          "metadata": {
            "needs_background": "light"
          }
        },
        {
          "output_type": "display_data",
          "data": {
            "image/png": "[encoded data removed]",
            "text/plain": [
              "<Figure size 432x288 with 1 Axes>"
            ]
          },
          "metadata": {
            "needs_background": "light"
          }
        }
      ]
    },
    {
      "cell_type": "code",
      "metadata": {
        "execution": {
          "iopub.status.busy": "2021-07-28T19:24:50.409806Z",
          "iopub.execute_input": "2021-07-28T19:24:50.41012Z",
          "iopub.status.idle": "2021-07-28T19:24:50.550329Z",
          "shell.execute_reply.started": "2021-07-28T19:24:50.41009Z",
          "shell.execute_reply": "2021-07-28T19:24:50.549474Z"
        },
        "trusted": true,
        "id": "ziezsGxAKwDX"
      },
      "source": [
        "ann_predictions = model.predict(X_test)\n",
        "rounded = [int(round(x[0])) for x in ann_predictions]\n"
      ],
      "execution_count": 67,
      "outputs": []
    },
    {
      "cell_type": "code",
      "metadata": {
        "execution": {
          "iopub.status.busy": "2021-07-28T19:24:50.551446Z",
          "iopub.execute_input": "2021-07-28T19:24:50.551909Z",
          "iopub.status.idle": "2021-07-28T19:24:50.565891Z",
          "shell.execute_reply.started": "2021-07-28T19:24:50.551877Z",
          "shell.execute_reply": "2021-07-28T19:24:50.564789Z"
        },
        "trusted": true,
        "colab": {
          "base_uri": "https://localhost:8080/",
          "height": 80
        },
        "id": "CnEOXwJZKwDX",
        "outputId": "a50c15e9-4176-4109-d646-631bce919567"
      },
      "source": [
        "ann_report=pd.DataFrame(rate(rounded),index=['Neural Network'])\n",
        "ann_report"
      ],
      "execution_count": 68,
      "outputs": [
        {
          "output_type": "execute_result",
          "data": {
            "text/html": [
              "<div>\n",
              "<style scoped>\n",
              "    .dataframe tbody tr th:only-of-type {\n",
              "        vertical-align: middle;\n",
              "    }\n",
              "\n",
              "    .dataframe tbody tr th {\n",
              "        vertical-align: top;\n",
              "    }\n",
              "\n",
              "    .dataframe thead th {\n",
              "        text-align: right;\n",
              "    }\n",
              "</style>\n",
              "<table border=\"1\" class=\"dataframe\">\n",
              "  <thead>\n",
              "    <tr style=\"text-align: right;\">\n",
              "      <th></th>\n",
              "      <th>Accuracy</th>\n",
              "      <th>Sensivity</th>\n",
              "      <th>Specificity</th>\n",
              "    </tr>\n",
              "  </thead>\n",
              "  <tbody>\n",
              "    <tr>\n",
              "      <th>Neural Network</th>\n",
              "      <td>0.76</td>\n",
              "      <td>0.916667</td>\n",
              "      <td>0.671875</td>\n",
              "    </tr>\n",
              "  </tbody>\n",
              "</table>\n",
              "</div>"
            ],
            "text/plain": [
              "                Accuracy  Sensivity  Specificity\n",
              "Neural Network      0.76   0.916667     0.671875"
            ]
          },
          "metadata": {},
          "execution_count": 68
        }
      ]
    },
    {
      "cell_type": "code",
      "metadata": {
        "execution": {
          "iopub.status.busy": "2021-07-28T19:40:32.004185Z",
          "iopub.execute_input": "2021-07-28T19:40:32.004575Z",
          "iopub.status.idle": "2021-07-28T19:40:32.020553Z",
          "shell.execute_reply.started": "2021-07-28T19:40:32.004542Z",
          "shell.execute_reply": "2021-07-28T19:40:32.019486Z"
        },
        "trusted": true,
        "colab": {
          "base_uri": "https://localhost:8080/",
          "height": 266
        },
        "id": "Uj5WQOx8KwDX",
        "outputId": "0c7f0d87-aacf-4cec-fcdb-4b21c4d24abb"
      },
      "source": [
        "performance_rate=pd.concat([dtree_report, rfc_report, svc_report, knn_report,gnb_report,ann_report,log_report])\n",
        "performance_rate"
      ],
      "execution_count": 69,
      "outputs": [
        {
          "output_type": "execute_result",
          "data": {
            "text/html": [
              "<div>\n",
              "<style scoped>\n",
              "    .dataframe tbody tr th:only-of-type {\n",
              "        vertical-align: middle;\n",
              "    }\n",
              "\n",
              "    .dataframe tbody tr th {\n",
              "        vertical-align: top;\n",
              "    }\n",
              "\n",
              "    .dataframe thead th {\n",
              "        text-align: right;\n",
              "    }\n",
              "</style>\n",
              "<table border=\"1\" class=\"dataframe\">\n",
              "  <thead>\n",
              "    <tr style=\"text-align: right;\">\n",
              "      <th></th>\n",
              "      <th>Accuracy</th>\n",
              "      <th>Sensivity</th>\n",
              "      <th>Specificity</th>\n",
              "    </tr>\n",
              "  </thead>\n",
              "  <tbody>\n",
              "    <tr>\n",
              "      <th>Decision Tree</th>\n",
              "      <td>0.73</td>\n",
              "      <td>0.800000</td>\n",
              "      <td>0.672727</td>\n",
              "    </tr>\n",
              "    <tr>\n",
              "      <th>Random Forest</th>\n",
              "      <td>0.75</td>\n",
              "      <td>0.891892</td>\n",
              "      <td>0.666667</td>\n",
              "    </tr>\n",
              "    <tr>\n",
              "      <th>Support Vector Machine</th>\n",
              "      <td>0.79</td>\n",
              "      <td>0.902439</td>\n",
              "      <td>0.711864</td>\n",
              "    </tr>\n",
              "    <tr>\n",
              "      <th>K_Nearest Neighbor</th>\n",
              "      <td>0.84</td>\n",
              "      <td>0.880000</td>\n",
              "      <td>0.800000</td>\n",
              "    </tr>\n",
              "    <tr>\n",
              "      <th>Naives Bayes</th>\n",
              "      <td>0.79</td>\n",
              "      <td>0.902439</td>\n",
              "      <td>0.711864</td>\n",
              "    </tr>\n",
              "    <tr>\n",
              "      <th>Neural Network</th>\n",
              "      <td>0.76</td>\n",
              "      <td>0.916667</td>\n",
              "      <td>0.671875</td>\n",
              "    </tr>\n",
              "    <tr>\n",
              "      <th>Logistic Regression</th>\n",
              "      <td>0.80</td>\n",
              "      <td>0.904762</td>\n",
              "      <td>0.724138</td>\n",
              "    </tr>\n",
              "  </tbody>\n",
              "</table>\n",
              "</div>"
            ],
            "text/plain": [
              "                        Accuracy  Sensivity  Specificity\n",
              "Decision Tree               0.73   0.800000     0.672727\n",
              "Random Forest               0.75   0.891892     0.666667\n",
              "Support Vector Machine      0.79   0.902439     0.711864\n",
              "K_Nearest Neighbor          0.84   0.880000     0.800000\n",
              "Naives Bayes                0.79   0.902439     0.711864\n",
              "Neural Network              0.76   0.916667     0.671875\n",
              "Logistic Regression         0.80   0.904762     0.724138"
            ]
          },
          "metadata": {},
          "execution_count": 69
        }
      ]
    },
    {
      "cell_type": "code",
      "metadata": {
        "execution": {
          "iopub.status.busy": "2021-07-28T20:03:02.863098Z",
          "iopub.execute_input": "2021-07-28T20:03:02.863524Z",
          "iopub.status.idle": "2021-07-28T20:03:03.191039Z",
          "shell.execute_reply.started": "2021-07-28T20:03:02.863489Z",
          "shell.execute_reply": "2021-07-28T20:03:03.190026Z"
        },
        "trusted": true,
        "colab": {
          "base_uri": "https://localhost:8080/",
          "height": 324
        },
        "id": "CICsTRCRKwDX",
        "outputId": "5401e9ad-8e01-497d-dd7d-c95eee138d2a"
      },
      "source": [
        "plt.figure()\n",
        "performance_rate.plot.bar(figsize=(20,8),fontsize=14,rot=0.5)\n",
        "plt.xlabel('Classifiers',fontsize=18)\n",
        "plt.ylabel('Performance rate',fontsize=18)\n",
        "plt.title('Performance of different classifiers on full features',fontsize=20)\n",
        "\n"
      ],
      "execution_count": 73,
      "outputs": [
        {
          "output_type": "execute_result",
          "data": {
            "text/plain": [
              "Text(0.5, 1.0, 'Performance of different classifiers on full features')"
            ]
          },
          "metadata": {},
          "execution_count": 73
        },
        {
          "output_type": "display_data",
          "data": {
            "text/plain": [
              "<Figure size 432x288 with 0 Axes>"
            ]
          },
          "metadata": {}
        },
        {
          "output_type": "display_data",
          "data": {
            "image/png": "[encoded data removed]",
            "text/plain": [
              "<Figure size 1440x576 with 1 Axes>"
            ]
          },
          "metadata": {
            "needs_background": "light"
          }
        }
      ]
    }
  ]
}